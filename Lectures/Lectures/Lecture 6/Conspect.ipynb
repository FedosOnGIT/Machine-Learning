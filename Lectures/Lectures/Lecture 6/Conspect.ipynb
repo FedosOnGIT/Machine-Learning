{
 "cells": [
  {
   "cell_type": "markdown",
   "metadata": {
    "collapsed": true,
    "pycharm": {
     "name": "#%% md\n"
    }
   },
   "source": [
    "# Метод опорных векторов"
   ]
  },
  {
   "cell_type": "markdown",
   "source": [
    "# 1.Выборка $X^l$ - линейно разделима"
   ],
   "metadata": {
    "collapsed": false,
    "pycharm": {
     "name": "#%% md\n"
    }
   }
  },
  {
   "cell_type": "markdown",
   "source": [
    "$\\exists w, w_0 : M_i(w, w_0) > 0$"
   ],
   "metadata": {
    "collapsed": false
   }
  },
  {
   "cell_type": "markdown",
   "source": [
    "**SVM** - построение гиперплоскости, разделяющей объекты выборки оптимально"
   ],
   "metadata": {
    "collapsed": false
   }
  },
  {
   "cell_type": "markdown",
   "source": [
    "*Как построить разделяющую поверхность?*\n",
    "\n",
    "Будем делать так, чтобы ширина разделяющей полосы между классами была максимальная.\n",
    "\n",
    "<img src=\"Pics/wide.png\" width=\"500\">"
   ],
   "metadata": {
    "collapsed": false
   }
  },
  {
   "cell_type": "markdown",
   "source": [
    "Сделаем нормировку $\\min_{i=1...l} M_i(w, w_0) = 1$ (потому что так будет просто удобнее, да и кто нам в целом мешает?)\n",
    "\n",
    "Разделяющая полоса $\\{x: -1 \\leq <w, x> - w_0 \\leq 1 \\}$\n",
    "\n",
    "Ширина полосы: $\\frac{<x_-, w> - <x_+, w>}{||w||} = \\frac{1 + w_0 - (-1 + w_0)}{||w||} = \\frac{2}{||w||}$, получается, чтобы увеличить ширину полосы нам надо минимизировать $||w||$"
   ],
   "metadata": {
    "collapsed": false
   }
  },
  {
   "cell_type": "markdown",
   "source": [
    "* $\\frac{1}{2} \\cdot ||w||^2 \\rightarrow \\min_{w, w_0}$\n",
    "* $M_i(w, w_0) \\geq 1$"
   ],
   "metadata": {
    "collapsed": false
   }
  },
  {
   "cell_type": "markdown",
   "source": [
    "# 2.Линейно-неразделимая выборка"
   ],
   "metadata": {
    "collapsed": false
   }
  },
  {
   "cell_type": "markdown",
   "source": [
    "**Переход к линейно неразделимой выборке:**\n",
    "\n",
    "1. $\\frac{1}{2} \\cdot ||w||^2 + C \\cdot \\sum_{i=1}^l \\xi_i \\rightarrow \\min_{w, w_0, \\xi}$\n",
    "2. $M_i(w, w_0) \\geq 1 - \\xi_i$\n",
    "3. $\\xi_i \\geq 0$\n",
    "\n",
    "*Эквивалентная задача безусловной минимизации:*\n",
    "\n",
    "$C \\cdot \\sum_{i=1}^l (1 - M_i(w, w_0)) + \\frac{1}{2} \\cdot ||w|| \\rightarrow \\min_{w, w_0}$"
   ],
   "metadata": {
    "collapsed": false
   }
  },
  {
   "cell_type": "markdown",
   "source": [
    "$C$ - гипперпараметр\n",
    "\n",
    "Большой $C$ - не важна ширина полосы, важно, чтобы не было нарушителей, входящих в полосу\n",
    "\n",
    "Маленький $C$ - наоборот важна ширина\n"
   ],
   "metadata": {
    "collapsed": false
   }
  },
  {
   "cell_type": "markdown",
   "source": [
    "<img src=\"Pics/C.png\" width=\"500\">"
   ],
   "metadata": {
    "collapsed": false
   }
  },
  {
   "cell_type": "markdown",
   "source": [
    "Решение из задачи Каруша-Куна-Такера\n",
    "\n",
    "**Задача математического программирования**\n",
    "\n",
    "* $f(x) \\rightarrow \\min_x$\n",
    "* $g_i(x) \\leq 0$, $i = 1...m$\n",
    "* $h_j(x) = 0$, $j = 1..k$\n",
    "\n",
    "Где $h, g$ - некоторые ограничения, если бы их не было, мы бы просто взяли производные"
   ],
   "metadata": {
    "collapsed": false
   }
  },
  {
   "cell_type": "markdown",
   "source": [
    "<img src=\"Pics/important.png\" width=\"900\">"
   ],
   "metadata": {
    "collapsed": false
   }
  },
  {
   "cell_type": "markdown",
   "source": [
    "## А теперь подставим сюда то, что мы написали для SVM"
   ],
   "metadata": {
    "collapsed": false
   }
  },
  {
   "cell_type": "markdown",
   "source": [
    "Функция Лагранжа: $\\mathscr{L}(w, w_0, \\xi, \\lambda, \\eta) = \\frac{1}{2} \\cdot ||w||^2 - \\sum_{i=1}^l \\lambda_i(M_i(w, w_0) - 1) - \\sum_{i=1}^l \\xi_i(\\lambda_i + \\eta_i - C)$\n",
    "\n",
    "В данном случае за $x$ берём $w, w_0, \\xi$"
   ],
   "metadata": {
    "collapsed": false
   }
  },
  {
   "cell_type": "markdown",
   "source": [
    "* $\\frac{\\partial \\mathscr{L}}{\\partial w} = w - \\sum_{i=1}^l \\lambda_i y_i x_i = 0 \\Rightarrow w = \\sum_{i=1}^l \\lambda_i y_i x_i$\n",
    "* $\\frac{\\partial \\mathscr{L}}{\\partial w_0} = -\\sum_{i=1}^l \\lambda_i y_i = 0 \\Rightarrow \\sum_{i=1}^l \\lambda_i y_i = 0$\n",
    "* $\\frac{\\partial \\mathscr{L}}{\\partial \\xi_i} = -(\\lambda_i + \\eta_i - C) = 0 \\Rightarrow \\eta_i + \\lambda_i = C$"
   ],
   "metadata": {
    "collapsed": false
   }
  },
  {
   "cell_type": "markdown",
   "source": [
    "**По итогу получаем:**"
   ],
   "metadata": {
    "collapsed": false
   }
  },
  {
   "cell_type": "markdown",
   "source": [
    "<img src=\"Pics/KKT.png\" width=\"900\">"
   ],
   "metadata": {
    "collapsed": false
   }
  },
  {
   "cell_type": "markdown",
   "source": [
    "**Определение:** $x_i$ - опорный, если $\\lambda_i \\neq 0$"
   ],
   "metadata": {
    "collapsed": false
   }
  },
  {
   "cell_type": "markdown",
   "source": [
    "## Типы объектов"
   ],
   "metadata": {
    "collapsed": false
   }
  },
  {
   "cell_type": "markdown",
   "source": [
    "1. $\\lambda_i = 0; \\eta_i = C; \\xi_i = 0; M_i = 1$ - периферийный объект\n",
    "2. $0 < \\lambda_i < C; 0 < \\eta_i < C; \\xi_i = 0; M_i = 1$ - объекты на границе разделяющей полосы\n",
    "3. $\\lambda_i = C; \\eta_i = 0; \\xi_i > 0; M_i < 1$ - объекты перешедшие через границу полосы\n",
    "\n",
    "Как можно видеть, $w$ зависит только от объектов 2 и 3 типа."
   ],
   "metadata": {
    "collapsed": false
   }
  },
  {
   "cell_type": "markdown",
   "source": [
    "## Если теперь всё подставить в задачу:"
   ],
   "metadata": {
    "collapsed": false
   }
  },
  {
   "cell_type": "markdown",
   "source": [
    "<img src=\"Pics/Twice.png\" width=\"900\">"
   ],
   "metadata": {
    "collapsed": false
   }
  },
  {
   "cell_type": "markdown",
   "source": [
    "А predict тогда выглядит так:\n",
    "\n",
    "$a(x) = sign(\\sum_{i=1}^l \\lambda_i y_i <x, x_i> - w_0)$"
   ],
   "metadata": {
    "collapsed": false
   }
  },
  {
   "cell_type": "markdown",
   "source": [
    "# Обобщение линейного SVM"
   ],
   "metadata": {
    "collapsed": false
   }
  },
  {
   "cell_type": "markdown",
   "source": [
    "Для того чтобы работать с нелинейными пространствами можно заменить $<x, x'>$ на некоторое ядро $K(x, x')$"
   ],
   "metadata": {
    "collapsed": false
   }
  },
  {
   "cell_type": "markdown",
   "source": [
    "По факту надо вычислять $-\\mathscr{L}(\\lambda) = -\\sum_{i=1}^l \\lambda_i + \\frac{1}{2} \\sum_{i=1}^l \\sum_{j=1}^l \\lambda_i \\lambda_j y_i y_j K(x_i, x_j) \\rightarrow \\min_{\\lambda}$"
   ],
   "metadata": {
    "collapsed": false
   }
  },
  {
   "cell_type": "markdown",
   "source": [
    "## Плюсы"
   ],
   "metadata": {
    "collapsed": false
   }
  },
  {
   "cell_type": "markdown",
   "source": [
    "* Единственное решение\n",
    "* Любая разделяющая поверхность\n",
    "* Небольшое количество опорных объектов"
   ],
   "metadata": {
    "collapsed": false
   }
  },
  {
   "cell_type": "markdown",
   "source": [
    "## Минусы"
   ],
   "metadata": {
    "collapsed": false
   }
  },
  {
   "cell_type": "markdown",
   "source": [
    "* Чувствителен к шуму\n",
    "* Нет правил для выбора $K$\n",
    "* Нет правил для выбора $С$\n",
    "* Нет возможности выбора признаков"
   ],
   "metadata": {
    "collapsed": false
   }
  },
  {
   "cell_type": "markdown",
   "source": [
    "# Метод релевантных векторов RVM"
   ],
   "metadata": {
    "collapsed": false
   }
  },
  {
   "cell_type": "markdown",
   "source": [
    "Наложить ограничения не на $w$, а на $\\lambda$ и будем решать какие $\\lambda_i$ обнулять\n",
    "\n",
    "$Регуляризация = \\sum_{i=1}^l(\\ln(\\alpha_i) + \\frac{\\lambda_i^2}{\\alpha_i} \\rightarrow \\min_{\\lambda, \\alpha})$, где $\\alpha_i$ - дисперсия $\\lambda_i$"
   ],
   "metadata": {
    "collapsed": false
   }
  }
 ],
 "metadata": {
  "kernelspec": {
   "display_name": "Python 3",
   "language": "python",
   "name": "python3"
  },
  "language_info": {
   "codemirror_mode": {
    "name": "ipython",
    "version": 2
   },
   "file_extension": ".py",
   "mimetype": "text/x-python",
   "name": "python",
   "nbconvert_exporter": "python",
   "pygments_lexer": "ipython2",
   "version": "2.7.6"
  }
 },
 "nbformat": 4,
 "nbformat_minor": 0
}