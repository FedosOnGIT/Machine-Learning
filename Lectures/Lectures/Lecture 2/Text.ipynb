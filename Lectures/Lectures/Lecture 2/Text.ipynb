{
 "cells": [
  {
   "cell_type": "markdown",
   "source": [
    "<img src=\"Pics/hyper.png\" width=1000>"
   ],
   "metadata": {
    "collapsed": false
   }
  },
  {
   "cell_type": "markdown",
   "source": [
    "**Валидационное множество** - тестовой множество, которое используется для валидации при настройке гиперпараметров."
   ],
   "metadata": {
    "collapsed": false,
    "pycharm": {
     "name": "#%% md\n"
    }
   }
  },
  {
   "cell_type": "markdown",
   "source": [
    "## Выбор алгоритма и настройка гиперпараметров"
   ],
   "metadata": {
    "collapsed": false
   }
  },
  {
   "cell_type": "markdown",
   "source": [
    "### Выбор алгоритма настройкой гиперпараметров\n",
    "\n",
    "Построим универсальный алгоритм $A^u$ со списком гиперпараметров $\\{c, p^1, ..., p^n\\}$ где гиперпараметр $c$ указывает на выбираемый алгоритм $A^c$.\n",
    "\n",
    "### Настройка гиперпараметров выбором алгоритма\n",
    "\n",
    "* Специализируем алгоритмы $A^1, A^2, ...$ соответствующими гиперпараметрами $\\{p^1_1, p^1_2\\}$...\n",
    "* Выберем наилучший"
   ],
   "metadata": {
    "collapsed": false
   }
  },
  {
   "cell_type": "markdown",
   "source": [
    "# Эволюционные алгоритмы"
   ],
   "metadata": {
    "collapsed": false
   }
  },
  {
   "cell_type": "markdown",
   "source": [
    "## Оптимизация чёрного ящика"
   ],
   "metadata": {
    "collapsed": false
   }
  },
  {
   "cell_type": "markdown",
   "source": [
    "* Алгоритм оптимизации может вычислять функцию ошибку $L$\n",
    "на произвольном входе из её области определения, но не\n",
    "может получить никакой дополнительной информации о ней.\n",
    "* Как правило применяется для недифференцируемых,\n",
    "невыпуклых или медленно вычислимых функций.\n",
    "* Тестирование (сравнение) алгоритмов оптимизации:\n",
    "* Минимум $L$ при фиксированном времени или числе вызовов $L$.\n",
    "* Количество времени или число вызовов $L$ для достижения\n",
    "требуемого значения $L$.\n",
    "Данные ограничения называются **критерием остановки**."
   ],
   "metadata": {
    "collapsed": false
   }
  },
  {
   "cell_type": "markdown",
   "source": [
    "## Операторы"
   ],
   "metadata": {
    "collapsed": false
   }
  },
  {
   "cell_type": "markdown",
   "source": [
    "**Генерация** - создаёт новый объект\n",
    "\n",
    "**Мутация** - делает из объекта $x$ похожий объект $x^'$\n",
    "\n",
    "**Кроссовер** — делает из двух объектов третий, который одновременно похож на первый и второй"
   ],
   "metadata": {
    "collapsed": false
   }
  },
  {
   "cell_type": "markdown",
   "source": [
    "## Алгоритмы оптимизации"
   ],
   "metadata": {
    "collapsed": false
   }
  },
  {
   "cell_type": "markdown",
   "source": [
    "### Случайный поиск"
   ],
   "metadata": {
    "collapsed": false
   }
  },
  {
   "cell_type": "markdown",
   "source": [
    "```\n",
    "    x ← rand()\n",
    "    while StoppingCriteria() = false do\n",
    "        x′ ← rand()\n",
    "        if L(x′) < L(x) then\n",
    "            x ← x′\n",
    "        end if\n",
    "    end while\n",
    "```"
   ],
   "metadata": {
    "collapsed": false,
    "pycharm": {
     "name": "#%% md\n"
    }
   }
  },
  {
   "cell_type": "markdown",
   "source": [
    "### Поиск с восхождением к вершине"
   ],
   "metadata": {
    "collapsed": false
   }
  },
  {
   "cell_type": "markdown",
   "source": [
    "```\n",
    "x ← rand()\n",
    "while StoppingCriteria() = false do\n",
    "    x′ ← mutate(x)\n",
    "    if L(x′) < L(x) then\n",
    "        x ← x′\n",
    "    end if\n",
    "end while\n",
    "```"
   ],
   "metadata": {
    "collapsed": false,
    "pycharm": {
     "name": "#%% md\n"
    }
   }
  },
  {
   "cell_type": "markdown",
   "source": [
    "### Имитация отжига"
   ],
   "metadata": {
    "collapsed": false,
    "pycharm": {
     "name": "#%% md\n"
    }
   }
  },
  {
   "cell_type": "markdown",
   "source": [
    "Чем ниже температура, тем меньше вероятность ухудшить состояние.\n",
    "\n",
    "```\n",
    "x ← rand(), t ← Tstart\n",
    "while StoppingCriteria() = false do\n",
    "    x′ ← mutate(x)\n",
    "    if random() < exp((L(x) − L(x′))/t) then\n",
    "        x ← x′\n",
    "    end if\n",
    "        t ← decrease(t)\n",
    "end while\n",
    "```"
   ],
   "metadata": {
    "collapsed": false
   }
  },
  {
   "cell_type": "markdown",
   "source": [
    "### Численные методы"
   ],
   "metadata": {
    "collapsed": false
   }
  },
  {
   "cell_type": "markdown",
   "source": [
    "**Поиск по сетке**\n",
    "\n",
    "```\n",
    "for x′1 = 0, δ, 2 · δ, . . . , 1 do\n",
    "    ...\n",
    "    for x′m = 0, δ, 2 · δ, . . . , 1 do\n",
    "        if L(x′) < L(x) then\n",
    "            x ← x′\n",
    "        end if\n",
    "    end for\n",
    "    ...\n",
    "end for\n",
    "```"
   ],
   "metadata": {
    "collapsed": false
   }
  },
  {
   "cell_type": "markdown",
   "source": [
    "### Субградиентные методы"
   ],
   "metadata": {
    "collapsed": false
   }
  },
  {
   "cell_type": "markdown",
   "source": [
    "$\\frac{\\partial L}{\\partial x_j} = \\frac{L(x_j + \\delta \\cdot one-hot(j)) - L(x)}{\\delta}$\n",
    "\n",
    "Градиентный спуск\n",
    "$x_{new} = x_{old} - \\lambda \\cdot \\frac{\\partial L}{\\partial x}$"
   ],
   "metadata": {
    "collapsed": false
   }
  },
  {
   "cell_type": "markdown",
   "source": [
    "# Переобучение и регуляризация"
   ],
   "metadata": {
    "collapsed": false
   }
  },
  {
   "cell_type": "markdown",
   "source": [
    "**Проблема переобучения** — начиная с определенного уровня\n",
    "сложности предсказательной модели, чем лучше алгоритм\n",
    "показывает себя на тренировочном наборе данных $D$, тем хуже\n",
    "он работает на реальных объектах."
   ],
   "metadata": {
    "collapsed": false
   }
  },
  {
   "cell_type": "markdown",
   "source": [
    "**Регуляризация** — метод добавления некоторых\n",
    "дополнительных ограничений к условию с целью предотвратить\n",
    "переобучение или повысить вербализуемость моделей.\n",
    "\n",
    "* *Мягкая*\n",
    "\n",
    "$L_{reg}(\\theta, D) = L(\\theta, D) + \\lambda \\cdot complexity(\\theta)$\n",
    "\n",
    "* *Жёсткая*\n",
    "\n",
    "$L(\\theta, D) \\rightarrow min$,\n",
    "$complexety(\\theta) \\leq C$"
   ],
   "metadata": {
    "collapsed": false
   }
  },
  {
   "cell_type": "markdown",
   "source": [
    "**Смещение (bias)** — это погрешность оценки, возникающая в результате ошибочного предположения в алгоритме обучения (недообучение).\n",
    "\n",
    "**Дисперсия (variance)** — это ошибка чувствительности к малым отклонениям в тренировочном наборе (переобучение).\n",
    "<img src=\"Pics/bias%20and%20var.png\" width=500>"
   ],
   "metadata": {
    "collapsed": false
   }
  },
  {
   "cell_type": "markdown",
   "source": [
    "**Задача найти оптимальную точку**\n",
    "![optimal](Pics/optimal.png)"
   ],
   "metadata": {
    "collapsed": false
   }
  },
  {
   "cell_type": "markdown",
   "source": [
    "# Перекрёстная проверка"
   ],
   "metadata": {
    "collapsed": false
   }
  },
  {
   "cell_type": "markdown",
   "source": [
    "Не всегда у нас достаточно данных, чтобы правильно посчитать. Можно несколько разбивать одно и то же множество данных на тестовую и тренировочную выборку, а потом сделать оптимальный алгоритм."
   ],
   "metadata": {
    "collapsed": false
   }
  },
  {
   "cell_type": "markdown",
   "source": [
    "## Полная кросс-валидация"
   ],
   "metadata": {
    "collapsed": false
   }
  },
  {
   "cell_type": "markdown",
   "source": [
    "1. Фиксируем $e, r$. $|D_{train}| = r$, $|D_{test}| = e$\n",
    "2. Разобьём $D$ всевозможными способами\n",
    "3. $L(A, D) = \\frac{1}{C^e_{e+r}} \\cdot \\sum L(A(D_{train}), D_{test})$"
   ],
   "metadata": {
    "collapsed": false,
    "pycharm": {
     "name": "#%% md\n"
    }
   }
  },
  {
   "cell_type": "markdown",
   "source": [
    "## Кросс-валидация по k блокам"
   ],
   "metadata": {
    "collapsed": false
   }
  },
  {
   "cell_type": "markdown",
   "source": [
    "Разбиваем на $k$ блоков и $k$ раз проводим эксперимент, но уже с другим блоком."
   ],
   "metadata": {
    "collapsed": false
   }
  },
  {
   "cell_type": "markdown",
   "source": [
    "## Что ещё приводит к переобучению\n",
    "\n",
    "* Смещенный (нерепрезентативный) набор данных\n",
    "* Плохо подобранная метрика качества измерения алгоритмов (например, точность для редких классов)\n",
    "* Систематические смещения в методах валидации\n",
    "* Непонимание скрытых гиперпараметров\n",
    "\n",
    "В этих случаях кросс-валидация **бессмыслена**."
   ],
   "metadata": {
    "collapsed": false
   }
  },
  {
   "cell_type": "markdown",
   "source": [
    "# Обучение с учителем"
   ],
   "metadata": {
    "collapsed": false
   }
  },
  {
   "cell_type": "markdown",
   "source": [
    "## Оценка задач"
   ],
   "metadata": {
    "collapsed": false
   }
  },
  {
   "cell_type": "markdown",
   "source": [
    "* Модель $a$ аппроксимирует зависимость $y$.\n",
    "* Требуется оценить результат предсказания $\\bar y$\n",
    "функцией $L(y, \\bar y)$.\n",
    "* Для задачи классификации: $y$ и $\\bar y$ массивы категорий.\n",
    "* Для задачи регрессии: $y$ и $\\bar y$ массивы чисел."
   ],
   "metadata": {
    "collapsed": false
   }
  },
  {
   "cell_type": "markdown",
   "source": [
    "## Оценка задачи классификации"
   ],
   "metadata": {
    "collapsed": false
   }
  },
  {
   "cell_type": "markdown",
   "source": [
    "**Точность**: $Accuracy(y, \\bar y) = \\frac{1}{n} \\cdot \\sum_{i=1}^n [y_i = \\bar y_i]$\n",
    "Но тут возникают вопросы:\n",
    "1. Точность 70% это хорошо?\n",
    "2. А если в тестовой выборке 70% объектов одного класса?\n",
    "\n",
    "**Коэффициент Каппа Коэна (kappa statistic)**: $κ(po, pe) = \\frac{po−pe}{1−pe}$, где $po$ — полученный результат (точность), а $pe$ - случайный / наивный.\n",
    "\n",
    "**Ошибка**: $ErrorRate = 1 - Accuracy$"
   ],
   "metadata": {
    "collapsed": false
   }
  },
  {
   "cell_type": "markdown",
   "source": [
    "**Матрица ошибок:**\n",
    "\n",
    "$CM_{t,c}$ - число объектов класса t попавших в класс c.\n",
    "$CM(y, \\bar y)_{t,c} = \\sum_{i=1}^n [(y_i = t) \\& (\\bar y_i = c)]$"
   ],
   "metadata": {
    "collapsed": false
   }
  },
  {
   "cell_type": "markdown",
   "source": [
    "Предположим, что у нас 2 класса, тогда\n",
    "*TP (true positive)* - число верно угаданных в 1\n",
    "*TN (true negative)* - верно угаданные во 2\n",
    "*FP* - ошибка первого рода\n",
    "*FN* - ошибка второго рода\n",
    "\n",
    "**Точность**: $Precision = \\frac{TP}{TP + FP}$\n",
    "**Плотность**: $Recall = \\frac{TP}{TP + FN}$\n",
    "**F-мера**: $F_{\\beta} = (1 + \\beta^2) \\cdot \\frac{Precision \\cdot Recall}{\\beta^2 \\cdot Precision + Recall}$\n",
    "<img src=\"Pics/f-score.png\" width=1000>"
   ],
   "metadata": {
    "collapsed": false
   }
  },
  {
   "cell_type": "markdown",
   "source": [
    "## AUC ROC"
   ],
   "metadata": {
    "collapsed": false
   }
  },
  {
   "cell_type": "markdown",
   "source": [
    "1. $TRP = Recall$\n",
    "2. $TNR = \\frac{TN}{TN + FP}$\n",
    "3. ROC - зависимость TRP от TNR\n",
    "4. Площадь под ROC - функция качества"
   ],
   "metadata": {
    "collapsed": false
   }
  },
  {
   "cell_type": "markdown",
   "source": [
    "## Функция ошибки для линейной регрессии"
   ],
   "metadata": {
    "collapsed": false
   }
  },
  {
   "cell_type": "markdown",
   "source": [
    "**Сумма квадратов**: $SS(y, \\bar y) = ||y - \\bar y||^2_2$\n",
    "**Средний квадрат ошибки** $MSE(y, \\bar y) = \\frac{SS(y, \\bar y)}{n}$\n",
    "**Среднеквадтратичная ошибка**: $RMSE(y, \\bar y) = \\sqrt{NRMSE(y, \\bar y)}$\n",
    "**Нормализованная среднеквадратическая ошибка**: $NRMSE(y, \\bar y) = \\frac{RMSE}{\\sigma(y)$\n",
    "**Коэффициент детерминации**: $R^2$\n",
    "**Средняя абсолютная процентная ошибка**: $MAPE(y, \\bar y) = \\frac{100 \\%}{n} \\cdot \\sum |\\frac{y_i - \\bar y_i}{y_i}|$"
   ],
   "metadata": {
    "collapsed": false,
    "pycharm": {
     "name": "#%% md\n"
    }
   }
  }
 ],
 "metadata": {
  "kernelspec": {
   "display_name": "Python 3",
   "language": "python",
   "name": "python3"
  },
  "language_info": {
   "codemirror_mode": {
    "name": "ipython",
    "version": 2
   },
   "file_extension": ".py",
   "mimetype": "text/x-python",
   "name": "python",
   "nbconvert_exporter": "python",
   "pygments_lexer": "ipython2",
   "version": "2.7.6"
  }
 },
 "nbformat": 4,
 "nbformat_minor": 0
}