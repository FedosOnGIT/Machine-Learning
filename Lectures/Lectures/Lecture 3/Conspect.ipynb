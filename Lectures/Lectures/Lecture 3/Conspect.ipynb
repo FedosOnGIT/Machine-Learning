{
 "cells": [
  {
   "cell_type": "markdown",
   "metadata": {
    "collapsed": true,
    "pycharm": {
     "name": "#%% md\n"
    }
   },
   "source": [
    "# Непараметрические и параметрические методы"
   ]
  },
  {
   "cell_type": "markdown",
   "source": [
    "**Цель**: Понять как применять"
   ],
   "metadata": {
    "collapsed": false
   }
  },
  {
   "cell_type": "markdown",
   "source": [
    "## Задача классификации"
   ],
   "metadata": {
    "collapsed": false,
    "pycharm": {
     "name": "#%% md\n"
    }
   }
  },
  {
   "cell_type": "markdown",
   "source": [
    "**Гипотеза компактности**: Объекты одного класса близки друг к другу\n",
    "\n",
    "Напомним:\n",
    "\n",
    "**Аксиомы метрики**:\n",
    "1. Симметрия\n",
    "2. Неравенство треугольника\n",
    "3. $\\rho(x, y) \\geq 0$\n",
    "\n",
    "**Виды метрик:**\n",
    "1. Расстояние Минковского:\n",
    "    $p(a, b) = (\\sum_i |a_i - b_i|^p)^{\\frac{1}{p}$.\n",
    "2. Косинусное сходство:\n",
    "    $CosineSimilarity(a, b) = \\frac{\\sum_i a_i \\cdot b_i}{\\sqrt{\\sum_i a_i^2} \\cdot \\sqrt{\\sum_i b_i^2}}$.\n",
    "3. Расстояние Махаланобиса\n",
    "    $p(a, b) = \\sqrt{(a-b)^T \\cdot S^{-1} \\cdot (a - b)}$, где $S$ - матрица ковариации между $a$ и $b$.\n",
    "   * Метрика со встроенной нормализацией (ввиду матрицы ковариации)"
   ],
   "metadata": {
    "collapsed": false
   }
  },
  {
   "cell_type": "markdown",
   "source": [
    "### Методы"
   ],
   "metadata": {
    "collapsed": false
   }
  },
  {
   "cell_type": "markdown",
   "source": [
    "#### Метод ближайшего соседа (1NN)\n",
    "\n",
    "**Описание**:\n",
    "\n",
    "$\\sqcup$ $x_{(u, 1)}$ - ближайший сосед объекта $u$\n",
    "$x_{(u, 1)} = argmin_{x \\in D_{train}} \\rho(u, x)$\n",
    "$a_{1NN} (u, D_{train}) = y(x_{(u,1)})$\n",
    "\n",
    "**Достоинства**:\n",
    "* Простота реализации\n",
    "* Понятность\n",
    "* Интерпретируемость\n",
    "\n",
    "**Недостатки**:\n",
    "* Чувствительность к шуму\n",
    "* Низкое качество работы\n",
    "* Нет явно заданных параметров\n",
    "\n",
    "\n",
    "<img src=\"Pics/Noise.png\" width=\"600\">"
   ],
   "metadata": {
    "collapsed": false,
    "pycharm": {
     "name": "#%% md\n"
    }
   }
  },
  {
   "cell_type": "markdown",
   "source": [
    "### Метод $k$-ближайших соседей (kNN)\n",
    "\n",
    "**Описание:**\n",
    "* Выберем расстояние $\\rho$ и число соседей $k$.\n",
    "* Отсортируем объекты\n",
    "    $\\rho(u, x_{(u, 1)} \\leq \\rho(u, x_{(u, 2)| \\leq ... \\leq \\rho(u, x_{(u, |D_{train}|)}$\n",
    "$a_{kNN}(u, D_{train}) = argmax_{y \\in Y} \\sum_{i=1}^{\\min(D_{train}, k)} (y(x_{(u, i)} = y))$\n",
    "\n",
    "**Недостатки:**\n",
    "* Когда мнение разделяется (объектов разных классов одинаково)\n",
    "* Всё также нет явно заданных признаков"
   ],
   "metadata": {
    "collapsed": false,
    "pycharm": {
     "name": "#%% md\n"
    }
   }
  },
  {
   "cell_type": "markdown",
   "source": [
    "### Обобщённый метрический классификатор\n",
    "\n",
    "**Описание:**\n",
    "* Пусть $\\omega_{(i, u)}$ - функция значимости $i$-го соседа. **Апостериорный вес**.\n",
    "* Не путать с априорным весом, который не зависит от запроса $\\omega_i$.\n",
    "* Для учитывания обоих $\\omega_{(i, u)} = \\omega_i \\cdot \\omega_{(i, u)}$.\n",
    "* $a_{GenDistClassifier} (u, D_{train}) = argmax_{y \\in Y} \\sum_{i = 1}^{D_{train}} (y(x_{(u, i)}) = y) \\cdot \\omega_{(i, u)}$\n",
    "\n",
    "Единственное, что не ясно - как подбирать функцию"
   ],
   "metadata": {
    "collapsed": false
   }
  },
  {
   "cell_type": "markdown",
   "source": [
    "## Ядерное сглаживание\n",
    "\n",
    "**Ядерная функция** $K(x)$ - симметричная неотрицательная функция, $\\int_{-\\infty}^{+\\infty} K(x)dx = 1$\n",
    "\n",
    "*Примеры*:\n",
    "* Равномерное\n",
    "* Нормальное\n",
    "\n",
    "Как оценить плотность исходя только из выборки?"
   ],
   "metadata": {
    "collapsed": false
   }
  },
  {
   "cell_type": "markdown",
   "source": [
    "<img src=\"Pics/Cores.png\" width=\"900\">"
   ],
   "metadata": {
    "collapsed": false
   }
  },
  {
   "cell_type": "markdown",
   "source": [
    "<img src=\"Pics/Core_examples.png\" width=\"900\">"
   ],
   "metadata": {
    "collapsed": false
   }
  },
  {
   "cell_type": "markdown",
   "source": [
    "<img src=\"Pics/Core_view.png\" width=\"800\">"
   ],
   "metadata": {
    "collapsed": false
   }
  },
  {
   "cell_type": "markdown",
   "source": [
    "### Эмпирическая оценка вероятности с окном шириной $h$\n",
    "\n",
    "$\\bar p_h(x) = \\frac{1}{2nh} \\sum_{i=1}^{n} (|x - x_i| \\leq h)$, $2h$ так как отклонение в обе стороны"
   ],
   "metadata": {
    "collapsed": false
   }
  },
  {
   "cell_type": "markdown",
   "source": [
    "### Окно Парзена-Розенблатта\n",
    "\n",
    "$\\bar p_h(x) = \\frac{1}{2nh} \\sum_{i=1}^n K(\\frac{x - x_i}{h})$\n",
    "\n",
    "*Для классификации:*\n",
    "$a(u, D_{train}, h, K) = argmax_{y \\in Y} \\sum_{i=1}^{D_{train}} (y(x_{(u, i)}) = y) \\cdot K(\\frac{\\rho(u, x_{(u, i)})}{h})$\n",
    "\n",
    "*Оптимизация:* Вместо $h$ использовать $x_{(u, k+1)}$, иначе возможно такое:\n",
    "\n",
    "<img src=\"Pics/Where.png\" width=\"400\">"
   ],
   "metadata": {
    "collapsed": false
   }
  },
  {
   "cell_type": "markdown",
   "source": [
    "## Непараметрическая регрессия"
   ],
   "metadata": {
    "collapsed": false
   }
  },
  {
   "cell_type": "markdown",
   "source": [
    "Имеет место **Гипотеза непрерывности**."
   ],
   "metadata": {
    "collapsed": false
   }
  },
  {
   "cell_type": "markdown",
   "source": [
    "## Формула Надарая-Ватсона"
   ],
   "metadata": {
    "collapsed": false
   }
  },
  {
   "cell_type": "markdown",
   "source": [
    "* Ответ - средневзвешенное\n",
    "* Веса вычисляются при помощи ядер\n",
    "\n",
    "$a_{NRP}(x, D_{train}) = \\frac{\\sum_{x_i \\in D_{train}} y_i \\cdot \\omega_i(x)}{\\sum_{x_i \\in D_{train}} \\omega_i(x)}$, где $\\omega_i = K(\\frac{\\rho(x_i, x)}{h})$."
   ],
   "metadata": {
    "collapsed": false
   }
  },
  {
   "cell_type": "markdown",
   "source": [
    "**Теорема**\n",
    "* Выборка $D_{train}$ простая, распределённая по $p(x, y)$\n",
    "* $\\int_0^{\\infty} K(r) dr < \\infty$, $\\lim_{r \\rightarrow \\infty} r \\cdot K(r) = 0$\n",
    "* $\\forall x \\in X: E(y^2 | x) < \\infty$\n",
    "* $\\lim_{i \\rightarrow \\infty} h_i = 0$, $\\lim_{i \\rightarrow \\infty} i \\cdot h_i = \\infty$\n",
    "Тогда $a_{NonParamRegh}(x, D_{train}) \\overset{\\mathbb{P}}{\\to} E(y|x)$ в любой $x \\in X$, где $E(y|x), p(x), D(y|x)$ непрерывны, а $p(x) > 0$"
   ],
   "metadata": {
    "collapsed": false,
    "pycharm": {
     "name": "#%% md\n"
    }
   }
  },
  {
   "cell_type": "markdown",
   "source": [
    "## Другие задачи с непараметрическими методами"
   ],
   "metadata": {
    "collapsed": false
   }
  },
  {
   "cell_type": "markdown",
   "source": [
    "### Few-Shot"
   ],
   "metadata": {
    "collapsed": false
   }
  },
  {
   "cell_type": "markdown",
   "source": [
    "* Обучение на малом количестве примеров\n",
    "* Большое количество классов\n",
    "* Множество классов может меняться\n",
    "* Для каждого класса малое число примеров\n",
    "* **Основная задача:** Классификация при помощи $1NN$\n",
    "* **Подзадача:** Выделение признаков и подсчёт расстояния"
   ],
   "metadata": {
    "collapsed": false
   }
  },
  {
   "cell_type": "markdown",
   "source": [
    "### Tomek links"
   ],
   "metadata": {
    "collapsed": false
   }
  },
  {
   "cell_type": "markdown",
   "source": [
    "**Обоснование:** Объекты разных классов, которые находятся близко друг к другу - нарушают гипотезу компактности."
   ],
   "metadata": {
    "collapsed": false
   }
  },
  {
   "cell_type": "markdown",
   "source": [
    "<img src=\"Pics/Tomek.png\" width=\"500\">"
   ],
   "metadata": {
    "collapsed": false
   }
  },
  {
   "cell_type": "markdown",
   "source": [
    "**Стратегии:**\n",
    "* Удаление обоих объектов\n",
    "* Удаление объекта мажоритарного класса"
   ],
   "metadata": {
    "collapsed": false
   }
  }
 ],
 "metadata": {
  "kernelspec": {
   "display_name": "Python 3",
   "language": "python",
   "name": "python3"
  },
  "language_info": {
   "codemirror_mode": {
    "name": "ipython",
    "version": 2
   },
   "file_extension": ".py",
   "mimetype": "text/x-python",
   "name": "python",
   "nbconvert_exporter": "python",
   "pygments_lexer": "ipython2",
   "version": "2.7.6"
  }
 },
 "nbformat": 4,
 "nbformat_minor": 0
}