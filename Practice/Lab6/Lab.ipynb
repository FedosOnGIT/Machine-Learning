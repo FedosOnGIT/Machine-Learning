{
 "cells": [
  {
   "cell_type": "code",
   "execution_count": 6,
   "metadata": {
    "collapsed": true,
    "pycharm": {
     "name": "#%%\n"
    }
   },
   "outputs": [],
   "source": [
    "import pandas as pd\n",
    "import numpy as np\n",
    "import tensorflow as tf\n",
    "import keras\n",
    "import keras.models as models\n",
    "import keras.layers as layers\n",
    "from matplotlib import pyplot as plt"
   ]
  },
  {
   "cell_type": "code",
   "execution_count": 7,
   "outputs": [],
   "source": [
    "from keras.datasets import fashion_mnist\n",
    "\n",
    "(X_train, y_train), (X_test, y_test) = fashion_mnist.load_data()"
   ],
   "metadata": {
    "collapsed": false,
    "pycharm": {
     "name": "#%%\n"
    }
   }
  },
  {
   "cell_type": "code",
   "execution_count": 8,
   "outputs": [],
   "source": [
    "def get_initializer(activation: str) -> str:\n",
    "    if activation == 'relu':\n",
    "        return 'he_normal'\n",
    "    else:\n",
    "        return 'he_uniform'\n",
    "\n",
    "\n",
    "class CNN:\n",
    "    def __init__(self, convolution_number: int,\n",
    "                 pooling_number: int,\n",
    "                 dense_number: int,\n",
    "                 start_filter: int,\n",
    "                 convolution_filter_multiply: int,\n",
    "                 convolution_activation: str,\n",
    "                 dense_vector: int,\n",
    "                 dense_activation: str):\n",
    "        self.model = models.Sequential()\n",
    "        self.model.add(layers.Input((28, 28, 1)))\n",
    "\n",
    "        # Conv2d\n",
    "        convolution_initializer = get_initializer(convolution_activation)\n",
    "        for i in range(convolution_number):\n",
    "            self.model.add(\n",
    "                layers.Conv2D(filters=start_filter, kernel_size=(3, 3), activation=convolution_activation,\n",
    "                              kernel_initializer=convolution_initializer))\n",
    "            start_filter *= convolution_filter_multiply\n",
    "\n",
    "        # MaxPooling\n",
    "        for i in range(pooling_number):\n",
    "            self.model.add(layers.MaxPooling2D(pool_size=(2, 2)))\n",
    "\n",
    "        # Flattering\n",
    "        self.model.add(layers.Flatten())\n",
    "\n",
    "        # Dense\n",
    "        dense_initializer = get_initializer(dense_activation)\n",
    "        for i in range(dense_number):\n",
    "            self.model.add(\n",
    "                layers.Dense(units=dense_vector, activation=dense_activation, kernel_initializer=dense_initializer))\n",
    "\n",
    "        # final\n",
    "        self.model.add(layers.Dense(10, activation='softmax'))\n",
    "        self.model.compile(optimizer='adam', loss='sparse_categorical_crossentropy', metrics=['accuracy'])\n",
    "\n",
    "    def fit(self, features: np.ndarray, answers: np.ndarray):\n",
    "        self.model.fit(features, answers, epochs=5, batch_size=10, verbose=0)\n",
    "\n",
    "    def evaluate(self, features_test: np.ndarray, answers_test: np.ndarray) -> float:\n",
    "        _, accuracy = self.model.evaluate(features_test, answers_test, verbose=0)\n",
    "        return accuracy\n",
    "\n",
    "    def predict(self, feature: np.ndarray):\n",
    "        np.argmax(self.model.predict(feature))"
   ],
   "metadata": {
    "collapsed": false,
    "pycharm": {
     "name": "#%%\n"
    }
   }
  },
  {
   "cell_type": "code",
   "execution_count": 9,
   "outputs": [],
   "source": [
    "convolution_numbers = [1, 2]\n",
    "pooling_numbers = [1, 2]\n",
    "dense_numbers = [1, 2]\n",
    "start_filters = [1, 3, 5]\n",
    "convolutions_filters_multiplies = [1, 2]\n",
    "convolution_activations = [None, 'relu', 'tanh']\n",
    "dense_vectors = [50, 100, 200]\n",
    "dense_activations = ['relu', 'tanh']"
   ],
   "metadata": {
    "collapsed": false,
    "pycharm": {
     "name": "#%%\n"
    }
   }
  },
  {
   "cell_type": "code",
   "execution_count": 10,
   "outputs": [
    {
     "name": "stdout",
     "output_type": "stream",
     "text": [
      "Лучшее accuracy = 0.8914999961853027. Слои модели:\n",
      "Conv2d(filters=5, kernel_size=(3, 3), activation=None,       kernel_initializer=he_uniform)\n",
      "Conv2d(filters=10, kernel_size=(3, 3), activation=None,       kernel_initializer=he_uniform)\n",
      "MaxPooling2D(pool_size=(2, 2))\n",
      "Flatten()\n",
      "Dense(units=100, activation=relu, kernel_initializer=he_normal)\n",
      "Dense(10, activation=softmax)\n"
     ]
    }
   ],
   "source": [
    "best_convolution_number = 1\n",
    "best_pooling_number = 1\n",
    "best_dense_number = 1\n",
    "best_start_filter = 3\n",
    "best_convolution_filter_multiply = 1\n",
    "best_convolution_activation = None\n",
    "best_dense_vector = 50\n",
    "best_dense_activation = 'relu'\n",
    "best_accuracy = 0\n",
    "\n",
    "for convolution_number in convolution_numbers:\n",
    "    for pooling_number in pooling_numbers:\n",
    "        for dense_number in dense_numbers:\n",
    "            for start_filter in start_filters:\n",
    "                for convolution_filter_multiply in convolutions_filters_multiplies:\n",
    "                    for convolution_activation in convolution_activations:\n",
    "                        for dense_vector in dense_vectors:\n",
    "                            for dense_activation in dense_activations:\n",
    "                                cnn = CNN(convolution_number=convolution_number,\n",
    "                                          pooling_number=pooling_number,\n",
    "                                          dense_number=dense_number,\n",
    "                                          start_filter=start_filter,\n",
    "                                          convolution_filter_multiply=convolution_filter_multiply,\n",
    "                                          convolution_activation=convolution_activation,\n",
    "                                          dense_vector=dense_vector,\n",
    "                                          dense_activation=dense_activation)\n",
    "                                cnn.fit(X_train, y_train)\n",
    "                                accuracy = cnn.evaluate(X_test, y_test)\n",
    "                                if accuracy > best_accuracy:\n",
    "                                    best_convolution_number = convolution_number\n",
    "                                    best_pooling_number = pooling_number\n",
    "                                    best_dense_number = dense_number\n",
    "                                    best_accuracy = accuracy\n",
    "                                    best_start_filter = start_filter\n",
    "                                    best_convolution_filter_multiply = convolution_filter_multiply\n",
    "                                    best_dense_vector = dense_vector\n",
    "                                    best_dense_activation = dense_activation\n",
    "\n",
    "print(f'Лучшее accuracy = {best_accuracy}. Слои модели:')\n",
    "filter_layers = best_start_filter\n",
    "for i in range(best_convolution_number):\n",
    "    print(\n",
    "        f'Conv2d(filters={filter_layers}, kernel_size=(3, 3), activation={best_convolution_activation},       kernel_initializer={get_initializer(best_convolution_activation)})')\n",
    "    filter_layers *= best_convolution_filter_multiply\n",
    "for i in range(best_pooling_number):\n",
    "    print('MaxPooling2D(pool_size=(2, 2))')\n",
    "print('Flatten()')\n",
    "for i in range(best_dense_number):\n",
    "    print(\n",
    "        f'Dense(units={best_dense_vector}, activation={best_dense_activation}, kernel_initializer={get_initializer(best_dense_activation)})')\n",
    "print('Dense(10, activation=softmax)')"
   ],
   "metadata": {
    "collapsed": false,
    "pycharm": {
     "name": "#%%\n"
    }
   }
  },
  {
   "cell_type": "code",
   "execution_count": 10,
   "outputs": [],
   "source": [],
   "metadata": {
    "collapsed": false,
    "pycharm": {
     "name": "#%%\n"
    }
   }
  }
 ],
 "metadata": {
  "kernelspec": {
   "display_name": "Python 3",
   "language": "python",
   "name": "python3"
  },
  "language_info": {
   "codemirror_mode": {
    "name": "ipython",
    "version": 2
   },
   "file_extension": ".py",
   "mimetype": "text/x-python",
   "name": "python",
   "nbconvert_exporter": "python",
   "pygments_lexer": "ipython2",
   "version": "2.7.6"
  }
 },
 "nbformat": 4,
 "nbformat_minor": 0
}