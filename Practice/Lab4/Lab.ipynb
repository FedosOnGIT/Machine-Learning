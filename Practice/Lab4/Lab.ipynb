{
 "cells": [
  {
   "cell_type": "code",
   "execution_count": 1,
   "outputs": [],
   "source": [
    "import os\n",
    "\n",
    "import numpy as np\n",
    "import pandas as pd\n",
    "import matplotlib.pyplot as plt\n",
    "import typing\n",
    "import Functions.Help as helper\n",
    "import Functions.Methods as methods"
   ],
   "metadata": {
    "collapsed": false,
    "pycharm": {
     "name": "#%%\n"
    }
   }
  },
  {
   "cell_type": "markdown",
   "source": [
    "# Научимся делать n-граммы"
   ],
   "metadata": {
    "collapsed": false,
    "pycharm": {
     "name": "#%% md\n"
    }
   }
  },
  {
   "cell_type": "markdown",
   "source": [
    "Разделение происходит следующим образом:\n",
    "\n",
    "1. Часть\n",
    "2. Legit, Spam\n",
    "3. Слова"
   ],
   "metadata": {
    "collapsed": false,
    "pycharm": {
     "name": "#%% md\n"
    }
   }
  },
  {
   "cell_type": "code",
   "execution_count": 2,
   "outputs": [
    {
     "data": {
      "text/plain": "{(80, 16502, 20010),\n (82, 18844, 23917),\n (84, 23266, 24097),\n (118, 1593, 13025),\n (118, 6782, 19604),\n (118, 20048, 1804),\n (130, 9887, 2130),\n (130, 23172, 9887),\n (1593, 13025, 6335),\n (1804, 118, 6782),\n (1847, 2130, 6049),\n (1967, 130, 23172),\n (1967, 12372, 1967),\n (2130, 6049, 130),\n (2130, 20010, 118),\n (2130, 23172, 84),\n (6049, 130, 9887),\n (6335, 16922, 23265),\n (6782, 19604, 118),\n (7634, 1847, 2130),\n (9561, -1, -1),\n (9887, 2130, 20010),\n (9887, 2130, 23172),\n (9887, 19054, 7634),\n (10092, 9561, -1),\n (12372, 1967, 130),\n (13025, 6335, 16922),\n (14338, 130, 9887),\n (16147, 17345, 14338),\n (16502, 20010, 10092),\n (16922, 23265, 82),\n (17345, 14338, 130),\n (18844, 23917, 16147),\n (19054, 7634, 1847),\n (19604, 118, 1593),\n (20010, 118, 20048),\n (20010, 10092, 9561),\n (20048, 1804, 118),\n (23172, 84, 23266),\n (23172, 9887, 19054),\n (23265, 82, 18844),\n (23266, 24097, 80),\n (23340, 1967, 12372),\n (23917, 16147, 17345),\n (24097, 80, 16502)}"
     },
     "execution_count": 2,
     "metadata": {},
     "output_type": "execute_result"
    }
   ],
   "source": [
    "parts_1 = []\n",
    "parts_2 = []\n",
    "parts_3 = []\n",
    "spliter_1 = methods.NGramSpliter(1)\n",
    "spliter_2 = methods.NGramSpliter(2)\n",
    "spliter_3 = methods.NGramSpliter(3)\n",
    "\n",
    "for i in range(1, 11):\n",
    "    current_part = helper.read_part(i)\n",
    "    parts_1.append((spliter_1.split(current_part[0]), spliter_1.split(current_part[1])))\n",
    "    parts_2.append((spliter_2.split(current_part[0]), spliter_2.split(current_part[1])))\n",
    "    parts_3.append((spliter_3.split(current_part[0]), spliter_3.split(current_part[1])))\n",
    "parts_3[0][0][0]"
   ],
   "metadata": {
    "collapsed": false,
    "pycharm": {
     "name": "#%%\n"
    }
   }
  },
  {
   "cell_type": "markdown",
   "source": [],
   "metadata": {
    "collapsed": false,
    "pycharm": {
     "name": "#%% md\n"
    }
   }
  },
  {
   "cell_type": "code",
   "execution_count": 3,
   "outputs": [],
   "source": [
    "counters_1 = []\n",
    "counters_2 = []\n",
    "counters_3 = []\n",
    "\n",
    "for i in range(10):\n",
    "    train_1 = []\n",
    "    train_2 = []\n",
    "    train_3 = []\n",
    "    for j in range(10):\n",
    "        if i != j:\n",
    "            train_1.append(parts_1[j])\n",
    "            train_2.append(parts_2[j])\n",
    "            train_3.append(parts_3[j])\n",
    "    counters_1.append(methods.Counter(train_1))\n",
    "    counters_2.append(methods.Counter(train_2))\n",
    "    counters_3.append(methods.Counter(train_3))"
   ],
   "metadata": {
    "collapsed": false,
    "pycharm": {
     "name": "#%%\n"
    }
   }
  },
  {
   "cell_type": "markdown",
   "source": [
    "# А теперь начнём перебор!"
   ],
   "metadata": {
    "collapsed": false,
    "pycharm": {
     "name": "#%% md\n"
    }
   }
  },
  {
   "cell_type": "code",
   "execution_count": 4,
   "outputs": [],
   "source": [
    "import threading\n",
    "\n",
    "alphas = np.exp(np.arange(start=-10, stop=11))\n",
    "lambdas = np.arange(start=-15, stop=16)\n",
    "ns = {1: (counters_1, parts_1), 2: (counters_2, parts_2), 3: (counters_3, parts_3)}\n",
    "\n",
    "\n",
    "class BayesThread(threading.Thread):\n",
    "\n",
    "    def __init__(self, n: int):\n",
    "        self.optimal_alpha = alphas[0]\n",
    "        self.optimal_lambda = lambdas[0]\n",
    "        self.optimal_accuracy = 0\n",
    "        self.n = n\n",
    "        super().__init__()\n",
    "\n",
    "    def run(self) -> None:\n",
    "        for alpha in alphas:\n",
    "            legits = []\n",
    "            spams = []\n",
    "            for index in range(10):\n",
    "                counter = ns[self.n][0][index]\n",
    "                counter.set_parameters(alpha=alpha)\n",
    "                part = ns[self.n][1][index]\n",
    "                legits.append([])\n",
    "                for legit in part[0]:\n",
    "                    legits[index].append(counter.predict(legit))\n",
    "                spams.append([])\n",
    "                for spam in part[1]:\n",
    "                    spams[index].append(counter.predict(spam))\n",
    "            for lambda_value in lambdas:\n",
    "                can = True\n",
    "                accuracies = []\n",
    "                for index in range(10):\n",
    "                    expected = []\n",
    "                    actual = []\n",
    "                    for probabilities in legits[index]:\n",
    "                        expected.append(1)\n",
    "                        if probabilities[0] + lambda_value > probabilities[1]:\n",
    "                            actual.append(1)\n",
    "                        else:\n",
    "                            can = False\n",
    "                            break\n",
    "                    if not can:\n",
    "                        break\n",
    "                    for probabilities in spams[index]:\n",
    "                        expected.append(0)\n",
    "                        if probabilities[0] + lambda_value > probabilities[1]:\n",
    "                            actual.append(1)\n",
    "                        else:\n",
    "                            actual.append(0)\n",
    "                    accuracies.append(accuracy_score(expected, actual))\n",
    "                if can:\n",
    "                    accuracy = np.mean(accuracies)\n",
    "                    if accuracy > self.optimal_accuracy:\n",
    "                        self.optimal_accuracy = accuracy\n",
    "                        self.optimal_alpha = alpha\n",
    "                        self.optimal_lambda = lambda_value"
   ],
   "metadata": {
    "collapsed": false,
    "pycharm": {
     "name": "#%%\n"
    }
   }
  },
  {
   "cell_type": "code",
   "execution_count": 5,
   "outputs": [
    {
     "name": "stdout",
     "output_type": "stream",
     "text": [
      "Оптимальные параметры alpha = 0.049787068367863944, lambda = e^7, n = 3, accuracy = 0.863302752293578\n"
     ]
    }
   ],
   "source": [
    "from sklearn.metrics import accuracy_score\n",
    "\n",
    "optimal_alpha = alphas[0]\n",
    "optimal_lambda = lambdas[0]\n",
    "optimal_n = 1\n",
    "optimal_accuracy = 0\n",
    "\n",
    "thread_1 = BayesThread(1)\n",
    "thread_1.start()\n",
    "\n",
    "thread_2 = BayesThread(2)\n",
    "thread_2.start()\n",
    "\n",
    "thread_3 = BayesThread(3)\n",
    "thread_3.start()\n",
    "\n",
    "thread_1.join()\n",
    "thread_2.join()\n",
    "thread_3.join()\n",
    "\n",
    "if thread_1.optimal_accuracy > optimal_accuracy:\n",
    "    optimal_accuracy = thread_1.optimal_accuracy\n",
    "    optimal_n = 1\n",
    "    optimal_lambda = thread_1.optimal_lambda\n",
    "    optimal_alpha = thread_1.optimal_alpha\n",
    "\n",
    "if thread_2.optimal_accuracy > optimal_accuracy:\n",
    "    optimal_accuracy = thread_2.optimal_accuracy\n",
    "    optimal_n = 2\n",
    "    optimal_lambda = thread_2.optimal_lambda\n",
    "    optimal_alpha = thread_2.optimal_alpha\n",
    "\n",
    "if thread_3.optimal_accuracy > optimal_accuracy:\n",
    "    optimal_accuracy = thread_3.optimal_accuracy\n",
    "    optimal_n = 3\n",
    "    optimal_lambda = thread_3.optimal_lambda\n",
    "    optimal_alpha = thread_3.optimal_alpha\n",
    "\n",
    "print(\n",
    "    f'Оптимальные параметры alpha = {optimal_alpha}, lambda = e^{optimal_lambda}, n = {optimal_n}, accuracy = {optimal_accuracy}')"
   ],
   "metadata": {
    "collapsed": false,
    "pycharm": {
     "name": "#%%\n"
    }
   }
  },
  {
   "cell_type": "code",
   "execution_count": 6,
   "outputs": [
    {
     "data": {
      "text/plain": "<Figure size 432x288 with 1 Axes>",
      "image/png": "[encoded data removed]"
     },
     "metadata": {
      "needs_background": "light"
     },
     "output_type": "display_data"
    }
   ],
   "source": [
    "from sklearn.metrics import roc_curve, roc_auc_score\n",
    "\n",
    "optimal_counter = counters_3[0]\n",
    "optimal_counter.set_parameters(alpha=optimal_alpha)\n",
    "test_part = parts_3[0]\n",
    "y_test = []\n",
    "y_prob = []\n",
    "for legit_test in test_part[0]:\n",
    "    y_test.append(1)\n",
    "    legit_prob, spam_prob = optimal_counter.predict(legit_test)\n",
    "    y_prob.append(methods.calculate(legit_prob + optimal_lambda, spam_prob))\n",
    "for spam_test in test_part[1]:\n",
    "    y_test.append(0)\n",
    "    legit_prob, spam_prob = optimal_counter.predict(spam_test)\n",
    "    y_prob.append(methods.calculate(legit_prob + optimal_lambda, spam_prob))\n",
    "\n",
    "fpr, tpr, _ = roc_curve(y_true=y_test, y_score=y_prob)\n",
    "auc = roc_auc_score(y_true=y_test, y_score=y_prob)\n",
    "\n",
    "plt.plot(fpr, tpr, label=\"AUC=\" + str(auc))\n",
    "plt.ylabel('True Positive Rate')\n",
    "plt.xlabel('False Positive Rate')\n",
    "plt.legend(loc=4)\n",
    "plt.show()"
   ],
   "metadata": {
    "collapsed": false,
    "pycharm": {
     "name": "#%%\n"
    }
   }
  },
  {
   "cell_type": "code",
   "execution_count": 7,
   "outputs": [
    {
     "data": {
      "text/plain": "<Figure size 432x288 with 1 Axes>",
      "image/png": "[encoded data removed]"
     },
     "metadata": {
      "needs_background": "light"
     },
     "output_type": "display_data"
    }
   ],
   "source": [
    "acc = []\n",
    "lambda_values = []\n",
    "legits = []\n",
    "spams = []\n",
    "\n",
    "for index in range(10):\n",
    "    counter = counters_3[index]\n",
    "    counter.set_parameters(optimal_alpha)\n",
    "    part = parts_3[index]\n",
    "    legits.append([])\n",
    "    for legit in part[0]:\n",
    "        legits[index].append(counter.predict(legit))\n",
    "    spams.append([])\n",
    "    for spam in part[1]:\n",
    "        spams[index].append(counter.predict(spam))\n",
    "for lambda_value in lambdas:\n",
    "    can = True\n",
    "    accuracies = []\n",
    "    for index in range(10):\n",
    "        expected = []\n",
    "        actual = []\n",
    "        for probabilities in legits[index]:\n",
    "            expected.append(1)\n",
    "            if probabilities[0] + lambda_value > probabilities[1]:\n",
    "                actual.append(1)\n",
    "            else:\n",
    "                can = False\n",
    "                break\n",
    "        if not can:\n",
    "            break\n",
    "        for probabilities in spams[index]:\n",
    "            expected.append(0)\n",
    "            if probabilities[0] + lambda_value > probabilities[1]:\n",
    "                actual.append(1)\n",
    "            else:\n",
    "                actual.append(0)\n",
    "        accuracies.append(accuracy_score(expected, actual))\n",
    "    if can:\n",
    "        acc.append(np.mean(accuracies))\n",
    "        lambda_values.append(lambda_value)\n",
    "\n",
    "plt.plot(lambda_values, acc)\n",
    "plt.xlabel('log(lambda)')\n",
    "plt.ylabel('accuracy')\n",
    "plt.show()"
   ],
   "metadata": {
    "collapsed": false,
    "pycharm": {
     "name": "#%%\n"
    }
   }
  }
 ],
 "metadata": {
  "kernelspec": {
   "display_name": "Python 3",
   "language": "python",
   "name": "python3"
  },
  "language_info": {
   "codemirror_mode": {
    "name": "ipython",
    "version": 2
   },
   "file_extension": ".py",
   "mimetype": "text/x-python",
   "name": "python",
   "nbconvert_exporter": "python",
   "pygments_lexer": "ipython2",
   "version": "2.7.6"
  }
 },
 "nbformat": 4,
 "nbformat_minor": 0
}