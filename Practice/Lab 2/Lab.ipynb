{
 "cells": [
  {
   "cell_type": "code",
   "execution_count": 1,
   "metadata": {
    "collapsed": true
   },
   "outputs": [],
   "source": [
    "import matplotlib.pyplot as plt\n",
    "from numpy import arange\n",
    "from Functions.Help import read_txt\n",
    "from Functions.Methods import svd, nrmse, smape, nrmse_gradient, smape_gradient, best_gd, smape_gradient_wolfram"
   ]
  },
  {
   "cell_type": "code",
   "execution_count": 2,
   "outputs": [
    {
     "name": "stderr",
     "output_type": "stream",
     "text": [
      "100%|██████████| 1164/1164 [00:00<00:00, 9309.83it/s]\n",
      "100%|██████████| 256/256 [00:00<00:00, 9473.89it/s]\n"
     ]
    }
   ],
   "source": [
    "results = read_txt('LR/1.txt')\n",
    "arguments = results[0]\n",
    "training_size = results[1]\n",
    "test_size = results[2]\n",
    "training_parameters = results[3][0]\n",
    "training_answers = results[3][1]\n",
    "test_parameters = results[4][0]\n",
    "test_answers = results[4][1]"
   ],
   "metadata": {
    "collapsed": false,
    "pycharm": {
     "name": "#%%\n"
    }
   }
  },
  {
   "cell_type": "markdown",
   "source": [
    "# SVD"
   ],
   "metadata": {
    "collapsed": false
   }
  },
  {
   "cell_type": "markdown",
   "source": [
    "$\\theta_{\\tau}^* = U \\cdot (D^2 + \\tau \\cdot I_m)^{-1} \\cdot D \\cdot V^T \\cdot y$"
   ],
   "metadata": {
    "collapsed": false
   }
  },
  {
   "cell_type": "markdown",
   "source": [
    "# Градиентный спуск"
   ],
   "metadata": {
    "collapsed": false
   }
  },
  {
   "cell_type": "code",
   "execution_count": 3,
   "outputs": [],
   "source": [
    "gradient_function = lambda mistake, mistake_gradient, package_size: best_gd(mistake=mistake,\n",
    "                                                                            mistake_gradient=mistake_gradient,\n",
    "                                                                            arguments_size=arguments,\n",
    "                                                                            package_size=package_size,\n",
    "                                                                            training_arguments=training_parameters,\n",
    "                                                                            training_answers=training_answers,\n",
    "                                                                            test_arguments=test_parameters,\n",
    "                                                                            test_answers=test_answers)\n",
    "gradient_function_1 = lambda mistake, mistake_gradient: gradient_function(mistake=mistake,\n",
    "                                                                          mistake_gradient=mistake_gradient,\n",
    "                                                                          package_size=1)\n",
    "gradient_function_5 = lambda mistake, mistake_gradient: gradient_function(mistake=mistake,\n",
    "                                                                          mistake_gradient=mistake_gradient,\n",
    "                                                                          package_size=5)\n",
    "gradient_function_10 = lambda mistake, mistake_gradient: gradient_function(mistake=mistake,\n",
    "                                                                           mistake_gradient=mistake_gradient,\n",
    "                                                                           package_size=10)"
   ],
   "metadata": {
    "collapsed": false,
    "pycharm": {
     "name": "#%%\n"
    }
   }
  },
  {
   "cell_type": "markdown",
   "source": [
    "# Проведём обучения!"
   ],
   "metadata": {
    "collapsed": false
   }
  },
  {
   "cell_type": "markdown",
   "source": [
    "## SVD"
   ],
   "metadata": {
    "collapsed": false
   }
  },
  {
   "cell_type": "code",
   "source": [
    "svd_result = svd(arguments_training=training_parameters,\n",
    "                 answers_training=training_answers,\n",
    "                 arguments_test=test_parameters,\n",
    "                 answers_test=test_answers)"
   ],
   "metadata": {
    "collapsed": false,
    "pycharm": {
     "name": "#%%\n"
    }
   },
   "execution_count": 4,
   "outputs": [
    {
     "name": "stderr",
     "output_type": "stream",
     "text": [
      "100%|██████████| 35/35 [00:00<00:00, 119.05it/s]\n"
     ]
    }
   ]
  },
  {
   "cell_type": "code",
   "execution_count": 5,
   "outputs": [
    {
     "data": {
      "text/plain": "<Figure size 432x288 with 1 Axes>",
      "image/png": "[encoded data removed]"
     },
     "metadata": {
      "needs_background": "light"
     },
     "output_type": "display_data"
    }
   ],
   "source": [
    "plt.plot(arange(start=-17, stop=18), svd_result['NRMSE Mistake'].to_numpy())\n",
    "plt.xlabel('Значение tau')\n",
    "plt.ylabel('Значение ошибки')\n",
    "plt.title('Зависимость NRMSE от tau для SVD')\n",
    "plt.show()"
   ],
   "metadata": {
    "collapsed": false,
    "pycharm": {
     "name": "#%%\n"
    }
   }
  },
  {
   "cell_type": "code",
   "execution_count": 6,
   "outputs": [
    {
     "data": {
      "text/plain": "<Figure size 432x288 with 1 Axes>",
      "image/png": "[encoded data removed]"
     },
     "metadata": {
      "needs_background": "light"
     },
     "output_type": "display_data"
    }
   ],
   "source": [
    "plt.plot(arange(start=-17, stop=18), svd_result['SMAPE Mistake'].to_numpy())\n",
    "plt.xlabel('Значение tau')\n",
    "plt.ylabel('Значение ошибки')\n",
    "plt.title('Зависимость SMAPE от tau для SVD')\n",
    "plt.show()"
   ],
   "metadata": {
    "collapsed": false,
    "pycharm": {
     "name": "#%%\n"
    }
   }
  },
  {
   "cell_type": "markdown",
   "source": [
    "## Градиентный NRMSE"
   ],
   "metadata": {
    "collapsed": false
   }
  },
  {
   "cell_type": "markdown",
   "source": [
    "### Пакет размером 1"
   ],
   "metadata": {
    "collapsed": false
   }
  },
  {
   "cell_type": "code",
   "execution_count": 7,
   "outputs": [
    {
     "name": "stderr",
     "output_type": "stream",
     "text": [
      "9720it [06:14, 25.98it/s] \n"
     ]
    }
   ],
   "source": [
    "nrmse_gradient_decent_1 = gradient_function_1(mistake=nrmse,\n",
    "                                              mistake_gradient=nrmse_gradient)"
   ],
   "metadata": {
    "collapsed": false,
    "pycharm": {
     "name": "#%%\n"
    }
   }
  },
  {
   "cell_type": "code",
   "source": [
    "nrmse_gradient_decent_1_q = nrmse_gradient_decent_1[nrmse_gradient_decent_1['Final Q'] ==\n",
    "                                                    nrmse_gradient_decent_1['Final Q'].min()]\n",
    "nrmse_gradient_decent_1_nrmse = nrmse_gradient_decent_1[nrmse_gradient_decent_1['NRMSE Mistake'] ==\n",
    "                                                    nrmse_gradient_decent_1['NRMSE Mistake'].min()]\n",
    "nrmse_gradient_decent_1_smape = nrmse_gradient_decent_1[nrmse_gradient_decent_1['SMAPE Mistake'] ==\n",
    "                                                    nrmse_gradient_decent_1['SMAPE Mistake'].min()]"
   ],
   "metadata": {
    "collapsed": false,
    "pycharm": {
     "name": "#%%\n"
    }
   },
   "execution_count": 8,
   "outputs": []
  },
  {
   "cell_type": "markdown",
   "source": [
    "### Пакет размером 5"
   ],
   "metadata": {
    "collapsed": false
   }
  },
  {
   "cell_type": "code",
   "execution_count": 9,
   "outputs": [
    {
     "name": "stderr",
     "output_type": "stream",
     "text": [
      "9720it [06:40, 24.26it/s]\n"
     ]
    }
   ],
   "source": [
    "nrmse_gradient_decent_5 = gradient_function_5(mistake=nrmse,\n",
    "                                              mistake_gradient=nrmse_gradient)"
   ],
   "metadata": {
    "collapsed": false,
    "pycharm": {
     "name": "#%%\n"
    }
   }
  },
  {
   "cell_type": "code",
   "source": [
    "nrmse_gradient_decent_5_q = nrmse_gradient_decent_5[nrmse_gradient_decent_5['Final Q'] ==\n",
    "                                                    nrmse_gradient_decent_5['Final Q'].min()]\n",
    "nrmse_gradient_decent_5_nrmse = nrmse_gradient_decent_5[nrmse_gradient_decent_5['NRMSE Mistake'] ==\n",
    "                                                    nrmse_gradient_decent_5['NRMSE Mistake'].min()]\n",
    "nrmse_gradient_decent_5_smape = nrmse_gradient_decent_5[nrmse_gradient_decent_5['SMAPE Mistake'] ==\n",
    "                                                    nrmse_gradient_decent_5['SMAPE Mistake'].min()]"
   ],
   "metadata": {
    "collapsed": false,
    "pycharm": {
     "name": "#%%\n"
    }
   },
   "execution_count": 10,
   "outputs": []
  },
  {
   "cell_type": "markdown",
   "source": [
    "### Пакет размером 10"
   ],
   "metadata": {
    "collapsed": false
   }
  },
  {
   "cell_type": "code",
   "source": [
    "nrmse_gradient_decent_10 = gradient_function_10(mistake=nrmse,\n",
    "                                              mistake_gradient=nrmse_gradient)"
   ],
   "metadata": {
    "collapsed": false,
    "pycharm": {
     "name": "#%%\n"
    }
   },
   "execution_count": 11,
   "outputs": [
    {
     "name": "stderr",
     "output_type": "stream",
     "text": [
      "9720it [07:20, 22.07it/s]\n"
     ]
    }
   ]
  },
  {
   "cell_type": "code",
   "source": [
    "nrmse_gradient_decent_10_q = nrmse_gradient_decent_10[nrmse_gradient_decent_10['Final Q'] ==\n",
    "                                                    nrmse_gradient_decent_10['Final Q'].min()]\n",
    "nrmse_gradient_decent_10_nrmse = nrmse_gradient_decent_10[nrmse_gradient_decent_10['NRMSE Mistake'] ==\n",
    "                                                    nrmse_gradient_decent_10['NRMSE Mistake'].min()]\n",
    "nrmse_gradient_decent_10_smape = nrmse_gradient_decent_10[nrmse_gradient_decent_10['SMAPE Mistake'] ==\n",
    "                                                    nrmse_gradient_decent_10['SMAPE Mistake'].min()]"
   ],
   "metadata": {
    "collapsed": false,
    "pycharm": {
     "name": "#%%\n"
    }
   },
   "execution_count": 12,
   "outputs": []
  },
  {
   "cell_type": "markdown",
   "source": [
    "### Графики"
   ],
   "metadata": {
    "collapsed": false
   }
  },
  {
   "cell_type": "code",
   "execution_count": 79,
   "outputs": [
    {
     "data": {
      "text/plain": "<Figure size 432x288 with 1 Axes>",
      "image/png": "[encoded data removed]"
     },
     "metadata": {
      "needs_background": "light"
     },
     "output_type": "display_data"
    },
    {
     "data": {
      "text/plain": "    Regularisation       Tau Step strategy   Mu  Alpha   Epsilon  \\\n433          ridge  0.000002        linear  1.0    0.2  0.000045   \n\n     Change if bigger  NRMSE Mistake  SMAPE Mistake   Final Q  \\\n433              True       0.003353       0.197335  0.002761   \n\n                                              Mistakes  \\\n433  [1.055550096841019, 0.907109558735946, 0.81177...   \n\n                                                Result  \n433  [-0.08169447757648395, -0.002258955075893246, ...  ",
      "text/html": "<div>\n<style scoped>\n    .dataframe tbody tr th:only-of-type {\n        vertical-align: middle;\n    }\n\n    .dataframe tbody tr th {\n        vertical-align: top;\n    }\n\n    .dataframe thead th {\n        text-align: right;\n    }\n</style>\n<table border=\"1\" class=\"dataframe\">\n  <thead>\n    <tr style=\"text-align: right;\">\n      <th></th>\n      <th>Regularisation</th>\n      <th>Tau</th>\n      <th>Step strategy</th>\n      <th>Mu</th>\n      <th>Alpha</th>\n      <th>Epsilon</th>\n      <th>Change if bigger</th>\n      <th>NRMSE Mistake</th>\n      <th>SMAPE Mistake</th>\n      <th>Final Q</th>\n      <th>Mistakes</th>\n      <th>Result</th>\n    </tr>\n  </thead>\n  <tbody>\n    <tr>\n      <th>433</th>\n      <td>ridge</td>\n      <td>0.000002</td>\n      <td>linear</td>\n      <td>1.0</td>\n      <td>0.2</td>\n      <td>0.000045</td>\n      <td>True</td>\n      <td>0.003353</td>\n      <td>0.197335</td>\n      <td>0.002761</td>\n      <td>[1.055550096841019, 0.907109558735946, 0.81177...</td>\n      <td>[-0.08169447757648395, -0.002258955075893246, ...</td>\n    </tr>\n  </tbody>\n</table>\n</div>"
     },
     "execution_count": 79,
     "metadata": {},
     "output_type": "execute_result"
    }
   ],
   "source": [
    "mistakes = nrmse_gradient_decent_10_q['Mistakes'].to_numpy()[0]\n",
    "plt.plot(arange(1, mistakes.size + 1), mistakes)\n",
    "plt.xlabel('Итерация')\n",
    "plt.ylabel('Ошибка')\n",
    "plt.title('Градиентный спуск NRMSE. Минимальное Q. Зависимость ошибки от итерации.')\n",
    "plt.show()\n",
    "nrmse_gradient_decent_10_q"
   ],
   "metadata": {
    "collapsed": false,
    "pycharm": {
     "name": "#%%\n"
    }
   }
  },
  {
   "cell_type": "code",
   "execution_count": 78,
   "outputs": [
    {
     "data": {
      "text/plain": "<Figure size 432x288 with 1 Axes>",
      "image/png": "[encoded data removed]"
     },
     "metadata": {
      "needs_background": "light"
     },
     "output_type": "display_data"
    },
    {
     "data": {
      "text/plain": "     Regularisation       Tau Step strategy   Mu  Alpha   Epsilon  \\\n3717          lasso  0.000912        linear  1.0    1.0  0.000045   \n\n      Change if bigger  NRMSE Mistake  SMAPE Mistake   Final Q  \\\n3717              True       0.003296       0.193501  0.015592   \n\n                                               Mistakes  \\\n3717  [0.9904298462886416, 0.31943594707688155, 0.44...   \n\n                                                 Result  \n3717  [-0.08598257781304006, -0.007787787716992258, ...  ",
      "text/html": "<div>\n<style scoped>\n    .dataframe tbody tr th:only-of-type {\n        vertical-align: middle;\n    }\n\n    .dataframe tbody tr th {\n        vertical-align: top;\n    }\n\n    .dataframe thead th {\n        text-align: right;\n    }\n</style>\n<table border=\"1\" class=\"dataframe\">\n  <thead>\n    <tr style=\"text-align: right;\">\n      <th></th>\n      <th>Regularisation</th>\n      <th>Tau</th>\n      <th>Step strategy</th>\n      <th>Mu</th>\n      <th>Alpha</th>\n      <th>Epsilon</th>\n      <th>Change if bigger</th>\n      <th>NRMSE Mistake</th>\n      <th>SMAPE Mistake</th>\n      <th>Final Q</th>\n      <th>Mistakes</th>\n      <th>Result</th>\n    </tr>\n  </thead>\n  <tbody>\n    <tr>\n      <th>3717</th>\n      <td>lasso</td>\n      <td>0.000912</td>\n      <td>linear</td>\n      <td>1.0</td>\n      <td>1.0</td>\n      <td>0.000045</td>\n      <td>True</td>\n      <td>0.003296</td>\n      <td>0.193501</td>\n      <td>0.015592</td>\n      <td>[0.9904298462886416, 0.31943594707688155, 0.44...</td>\n      <td>[-0.08598257781304006, -0.007787787716992258, ...</td>\n    </tr>\n  </tbody>\n</table>\n</div>"
     },
     "execution_count": 78,
     "metadata": {},
     "output_type": "execute_result"
    }
   ],
   "source": [
    "mistakes = nrmse_gradient_decent_10_nrmse['Mistakes'].to_numpy()[0]\n",
    "plt.plot(arange(1, mistakes.size + 1), mistakes)\n",
    "plt.xlabel('Итерация')\n",
    "plt.ylabel('Ошибка')\n",
    "plt.title('Градиентный спуск NRMSE. Минимальное NRMSE. Зависимость ошибки от итерации.')\n",
    "plt.show()\n",
    "nrmse_gradient_decent_10_nrmse"
   ],
   "metadata": {
    "collapsed": false,
    "pycharm": {
     "name": "#%%\n"
    }
   }
  },
  {
   "cell_type": "code",
   "execution_count": 77,
   "outputs": [
    {
     "data": {
      "text/plain": "<Figure size 432x288 with 1 Axes>",
      "image/png": "[encoded data removed]"
     },
     "metadata": {
      "needs_background": "light"
     },
     "output_type": "display_data"
    },
    {
     "data": {
      "text/plain": "     Regularisation       Tau Step strategy   Mu  Alpha   Epsilon  \\\n3717          lasso  0.000912        linear  1.0    1.0  0.000045   \n\n      Change if bigger  NRMSE Mistake  SMAPE Mistake   Final Q  \\\n3717              True       0.003296       0.193501  0.015592   \n\n                                               Mistakes  \\\n3717  [0.9904298462886416, 0.31943594707688155, 0.44...   \n\n                                                 Result  \n3717  [-0.08598257781304006, -0.007787787716992258, ...  ",
      "text/html": "<div>\n<style scoped>\n    .dataframe tbody tr th:only-of-type {\n        vertical-align: middle;\n    }\n\n    .dataframe tbody tr th {\n        vertical-align: top;\n    }\n\n    .dataframe thead th {\n        text-align: right;\n    }\n</style>\n<table border=\"1\" class=\"dataframe\">\n  <thead>\n    <tr style=\"text-align: right;\">\n      <th></th>\n      <th>Regularisation</th>\n      <th>Tau</th>\n      <th>Step strategy</th>\n      <th>Mu</th>\n      <th>Alpha</th>\n      <th>Epsilon</th>\n      <th>Change if bigger</th>\n      <th>NRMSE Mistake</th>\n      <th>SMAPE Mistake</th>\n      <th>Final Q</th>\n      <th>Mistakes</th>\n      <th>Result</th>\n    </tr>\n  </thead>\n  <tbody>\n    <tr>\n      <th>3717</th>\n      <td>lasso</td>\n      <td>0.000912</td>\n      <td>linear</td>\n      <td>1.0</td>\n      <td>1.0</td>\n      <td>0.000045</td>\n      <td>True</td>\n      <td>0.003296</td>\n      <td>0.193501</td>\n      <td>0.015592</td>\n      <td>[0.9904298462886416, 0.31943594707688155, 0.44...</td>\n      <td>[-0.08598257781304006, -0.007787787716992258, ...</td>\n    </tr>\n  </tbody>\n</table>\n</div>"
     },
     "execution_count": 77,
     "metadata": {},
     "output_type": "execute_result"
    }
   ],
   "source": [
    "mistakes = nrmse_gradient_decent_10_smape['Mistakes'].to_numpy()[0]\n",
    "plt.plot(arange(1, mistakes.size + 1), mistakes)\n",
    "plt.xlabel('Итерация')\n",
    "plt.ylabel('Ошибка')\n",
    "plt.title('Градиентный спуск NRMSE. Минимальное SMAPE. Зависимость ошибки от итерации.')\n",
    "plt.show()\n",
    "nrmse_gradient_decent_10_smape"
   ],
   "metadata": {
    "collapsed": false,
    "pycharm": {
     "name": "#%%\n"
    }
   }
  },
  {
   "cell_type": "markdown",
   "source": [
    "## Грандиентный SMAPE"
   ],
   "metadata": {
    "collapsed": false
   }
  },
  {
   "cell_type": "markdown",
   "source": [
    "### Пакет размера 1"
   ],
   "metadata": {
    "collapsed": false,
    "pycharm": {
     "name": "#%% md\n"
    }
   }
  },
  {
   "cell_type": "code",
   "execution_count": 16,
   "outputs": [
    {
     "name": "stderr",
     "output_type": "stream",
     "text": [
      "9720it [04:24, 36.80it/s] \n"
     ]
    }
   ],
   "source": [
    "smape_gradient_decent_1 = gradient_function_1(mistake=smape,\n",
    "                                              mistake_gradient=smape_gradient)"
   ],
   "metadata": {
    "collapsed": false,
    "pycharm": {
     "name": "#%%\n"
    }
   }
  },
  {
   "cell_type": "code",
   "execution_count": 17,
   "outputs": [],
   "source": [
    "smape_gradient_decent_1_q = smape_gradient_decent_1[smape_gradient_decent_1['Final Q'] ==\n",
    "                                                    smape_gradient_decent_1['Final Q'].min()]\n",
    "smape_gradient_decent_1_nrmse = smape_gradient_decent_1[smape_gradient_decent_1['NRMSE Mistake'] ==\n",
    "                                                    smape_gradient_decent_1['NRMSE Mistake'].min()]\n",
    "smape_gradient_decent_1_smape = smape_gradient_decent_1[smape_gradient_decent_1['SMAPE Mistake'] ==\n",
    "                                                    smape_gradient_decent_1['SMAPE Mistake'].min()]"
   ],
   "metadata": {
    "collapsed": false,
    "pycharm": {
     "name": "#%%\n"
    }
   }
  },
  {
   "cell_type": "markdown",
   "source": [
    "### Пакет размера 5"
   ],
   "metadata": {
    "collapsed": false
   }
  },
  {
   "cell_type": "code",
   "execution_count": 18,
   "outputs": [
    {
     "name": "stderr",
     "output_type": "stream",
     "text": [
      "9720it [06:03, 26.71it/s]\n"
     ]
    }
   ],
   "source": [
    "smape_gradient_decent_5 = gradient_function_5(mistake=smape,\n",
    "                                              mistake_gradient=smape_gradient)"
   ],
   "metadata": {
    "collapsed": false,
    "pycharm": {
     "name": "#%%\n"
    }
   }
  },
  {
   "cell_type": "code",
   "execution_count": 19,
   "outputs": [],
   "source": [
    "smape_gradient_decent_5_q = smape_gradient_decent_5[smape_gradient_decent_5['Final Q'] ==\n",
    "                                                    smape_gradient_decent_5['Final Q'].min()]\n",
    "smape_gradient_decent_5_nrmse = smape_gradient_decent_5[smape_gradient_decent_5['NRMSE Mistake'] ==\n",
    "                                                    smape_gradient_decent_5['NRMSE Mistake'].min()]\n",
    "smape_gradient_decent_5_smape = smape_gradient_decent_5[smape_gradient_decent_5['SMAPE Mistake'] ==\n",
    "                                                    smape_gradient_decent_5['SMAPE Mistake'].min()]"
   ],
   "metadata": {
    "collapsed": false,
    "pycharm": {
     "name": "#%%\n"
    }
   }
  },
  {
   "cell_type": "markdown",
   "source": [
    "### Пакет размера 10"
   ],
   "metadata": {
    "collapsed": false
   }
  },
  {
   "cell_type": "code",
   "execution_count": 20,
   "outputs": [
    {
     "name": "stderr",
     "output_type": "stream",
     "text": [
      "9720it [08:20, 19.42it/s]\n"
     ]
    }
   ],
   "source": [
    "smape_gradient_decent_10 = gradient_function_10(mistake=smape,\n",
    "                                              mistake_gradient=smape_gradient)"
   ],
   "metadata": {
    "collapsed": false,
    "pycharm": {
     "name": "#%%\n"
    }
   }
  },
  {
   "cell_type": "code",
   "execution_count": 21,
   "outputs": [],
   "source": [
    "smape_gradient_decent_10_q = smape_gradient_decent_10[smape_gradient_decent_10['Final Q'] ==\n",
    "                                                    smape_gradient_decent_10['Final Q'].min()]\n",
    "smape_gradient_decent_10_nrmse = smape_gradient_decent_10[smape_gradient_decent_10['NRMSE Mistake'] ==\n",
    "                                                    smape_gradient_decent_10['NRMSE Mistake'].min()]\n",
    "smape_gradient_decent_10_smape = smape_gradient_decent_10[smape_gradient_decent_10['SMAPE Mistake'] ==\n",
    "                                                    smape_gradient_decent_10['SMAPE Mistake'].min()]"
   ],
   "metadata": {
    "collapsed": false,
    "pycharm": {
     "name": "#%%\n"
    }
   }
  },
  {
   "cell_type": "markdown",
   "source": [
    "### Графики"
   ],
   "metadata": {
    "collapsed": false
   }
  },
  {
   "cell_type": "code",
   "execution_count": 76,
   "outputs": [
    {
     "data": {
      "text/plain": "<Figure size 432x288 with 1 Axes>",
      "image/png": "[encoded data removed]"
     },
     "metadata": {
      "needs_background": "light"
     },
     "output_type": "display_data"
    },
    {
     "data": {
      "text/plain": "    Regularisation       Tau Step strategy   Mu  Alpha   Epsilon  \\\n477          ridge  0.000912        linear  1.0    1.0  0.000045   \n\n     Change if bigger  NRMSE Mistake  SMAPE Mistake   Final Q  \\\n477              True       0.002228       0.152681  0.117246   \n\n                                              Mistakes  \\\n477  [33.964808844116575, 17.43032860603177, 15.555...   \n\n                                                Result  \n477  [-0.08084027091833035, -0.002696029886287339, ...  ",
      "text/html": "<div>\n<style scoped>\n    .dataframe tbody tr th:only-of-type {\n        vertical-align: middle;\n    }\n\n    .dataframe tbody tr th {\n        vertical-align: top;\n    }\n\n    .dataframe thead th {\n        text-align: right;\n    }\n</style>\n<table border=\"1\" class=\"dataframe\">\n  <thead>\n    <tr style=\"text-align: right;\">\n      <th></th>\n      <th>Regularisation</th>\n      <th>Tau</th>\n      <th>Step strategy</th>\n      <th>Mu</th>\n      <th>Alpha</th>\n      <th>Epsilon</th>\n      <th>Change if bigger</th>\n      <th>NRMSE Mistake</th>\n      <th>SMAPE Mistake</th>\n      <th>Final Q</th>\n      <th>Mistakes</th>\n      <th>Result</th>\n    </tr>\n  </thead>\n  <tbody>\n    <tr>\n      <th>477</th>\n      <td>ridge</td>\n      <td>0.000912</td>\n      <td>linear</td>\n      <td>1.0</td>\n      <td>1.0</td>\n      <td>0.000045</td>\n      <td>True</td>\n      <td>0.002228</td>\n      <td>0.152681</td>\n      <td>0.117246</td>\n      <td>[33.964808844116575, 17.43032860603177, 15.555...</td>\n      <td>[-0.08084027091833035, -0.002696029886287339, ...</td>\n    </tr>\n  </tbody>\n</table>\n</div>"
     },
     "execution_count": 76,
     "metadata": {},
     "output_type": "execute_result"
    }
   ],
   "source": [
    "mistakes = smape_gradient_decent_10_q['Mistakes'].to_numpy()[0]\n",
    "plt.plot(arange(1, mistakes.size + 1), mistakes)\n",
    "plt.xlabel('Итерация')\n",
    "plt.ylabel('Ошибка')\n",
    "plt.title('Градиентный спуск SMAPE. Минимальное Q. Зависимость ошибки от итерации.')\n",
    "plt.show()\n",
    "smape_gradient_decent_10_q"
   ],
   "metadata": {
    "collapsed": false,
    "pycharm": {
     "name": "#%%\n"
    }
   }
  },
  {
   "cell_type": "code",
   "execution_count": 75,
   "outputs": [
    {
     "data": {
      "text/plain": "<Figure size 432x288 with 1 Axes>",
      "image/png": "[encoded data removed]"
     },
     "metadata": {
      "needs_background": "light"
     },
     "output_type": "display_data"
    },
    {
     "data": {
      "text/plain": "    Regularisation       Tau Step strategy   Mu  Alpha   Epsilon  \\\n435          ridge  0.000002        linear  1.0    0.4  0.000045   \n\n     Change if bigger  NRMSE Mistake  SMAPE Mistake   Final Q  \\\n435              True       0.001844       0.102551  0.122342   \n\n                                              Mistakes  \\\n435  [72.47829707089507, 52.11587575558641, 40.4594...   \n\n                                                Result  \n435  [-0.08080297271298, -0.00255291278676432, -0.0...  ",
      "text/html": "<div>\n<style scoped>\n    .dataframe tbody tr th:only-of-type {\n        vertical-align: middle;\n    }\n\n    .dataframe tbody tr th {\n        vertical-align: top;\n    }\n\n    .dataframe thead th {\n        text-align: right;\n    }\n</style>\n<table border=\"1\" class=\"dataframe\">\n  <thead>\n    <tr style=\"text-align: right;\">\n      <th></th>\n      <th>Regularisation</th>\n      <th>Tau</th>\n      <th>Step strategy</th>\n      <th>Mu</th>\n      <th>Alpha</th>\n      <th>Epsilon</th>\n      <th>Change if bigger</th>\n      <th>NRMSE Mistake</th>\n      <th>SMAPE Mistake</th>\n      <th>Final Q</th>\n      <th>Mistakes</th>\n      <th>Result</th>\n    </tr>\n  </thead>\n  <tbody>\n    <tr>\n      <th>435</th>\n      <td>ridge</td>\n      <td>0.000002</td>\n      <td>linear</td>\n      <td>1.0</td>\n      <td>0.4</td>\n      <td>0.000045</td>\n      <td>True</td>\n      <td>0.001844</td>\n      <td>0.102551</td>\n      <td>0.122342</td>\n      <td>[72.47829707089507, 52.11587575558641, 40.4594...</td>\n      <td>[-0.08080297271298, -0.00255291278676432, -0.0...</td>\n    </tr>\n  </tbody>\n</table>\n</div>"
     },
     "execution_count": 75,
     "metadata": {},
     "output_type": "execute_result"
    }
   ],
   "source": [
    "mistakes = smape_gradient_decent_10_nrmse['Mistakes'].to_numpy()[0]\n",
    "plt.plot(arange(1, mistakes.size + 1), mistakes)\n",
    "plt.xlabel('Итерация')\n",
    "plt.ylabel('Ошибка')\n",
    "plt.title('Градиентный спуск SMAPE. Минимальное NRMSE. Зависимость ошибки от итерации.')\n",
    "plt.show()\n",
    "smape_gradient_decent_10_nrmse"
   ],
   "metadata": {
    "collapsed": false,
    "pycharm": {
     "name": "#%%\n"
    }
   }
  },
  {
   "cell_type": "code",
   "execution_count": 74,
   "outputs": [
    {
     "data": {
      "text/plain": "<Figure size 432x288 with 1 Axes>",
      "image/png": "[encoded data removed]"
     },
     "metadata": {
      "needs_background": "light"
     },
     "output_type": "display_data"
    },
    {
     "data": {
      "text/plain": "    Regularisation       Tau Step strategy   Mu  Alpha   Epsilon  \\\n435          ridge  0.000002        linear  1.0    0.4  0.000045   \n\n     Change if bigger  NRMSE Mistake  SMAPE Mistake   Final Q  \\\n435              True       0.001844       0.102551  0.122342   \n\n                                              Mistakes  \\\n435  [72.47829707089507, 52.11587575558641, 40.4594...   \n\n                                                Result  \n435  [-0.08080297271298, -0.00255291278676432, -0.0...  ",
      "text/html": "<div>\n<style scoped>\n    .dataframe tbody tr th:only-of-type {\n        vertical-align: middle;\n    }\n\n    .dataframe tbody tr th {\n        vertical-align: top;\n    }\n\n    .dataframe thead th {\n        text-align: right;\n    }\n</style>\n<table border=\"1\" class=\"dataframe\">\n  <thead>\n    <tr style=\"text-align: right;\">\n      <th></th>\n      <th>Regularisation</th>\n      <th>Tau</th>\n      <th>Step strategy</th>\n      <th>Mu</th>\n      <th>Alpha</th>\n      <th>Epsilon</th>\n      <th>Change if bigger</th>\n      <th>NRMSE Mistake</th>\n      <th>SMAPE Mistake</th>\n      <th>Final Q</th>\n      <th>Mistakes</th>\n      <th>Result</th>\n    </tr>\n  </thead>\n  <tbody>\n    <tr>\n      <th>435</th>\n      <td>ridge</td>\n      <td>0.000002</td>\n      <td>linear</td>\n      <td>1.0</td>\n      <td>0.4</td>\n      <td>0.000045</td>\n      <td>True</td>\n      <td>0.001844</td>\n      <td>0.102551</td>\n      <td>0.122342</td>\n      <td>[72.47829707089507, 52.11587575558641, 40.4594...</td>\n      <td>[-0.08080297271298, -0.00255291278676432, -0.0...</td>\n    </tr>\n  </tbody>\n</table>\n</div>"
     },
     "execution_count": 74,
     "metadata": {},
     "output_type": "execute_result"
    }
   ],
   "source": [
    "mistakes = smape_gradient_decent_10_smape['Mistakes'].to_numpy()[0]\n",
    "plt.plot(arange(1, mistakes.size + 1), mistakes)\n",
    "plt.xlabel('Итерация')\n",
    "plt.ylabel('Ошибка')\n",
    "plt.title('Градиентный спуск SMAPE. Минимальное SMAPE. Зависимость ошибки от итерации.')\n",
    "plt.show()\n",
    "smape_gradient_decent_10_smape"
   ],
   "metadata": {
    "collapsed": false,
    "pycharm": {
     "name": "#%%\n"
    }
   }
  },
  {
   "cell_type": "markdown",
   "source": [
    "## Градиентный SMAPE с Wolfram"
   ],
   "metadata": {
    "collapsed": false
   }
  },
  {
   "cell_type": "markdown",
   "source": [
    "### Пакет размера 1"
   ],
   "metadata": {
    "collapsed": false
   }
  },
  {
   "cell_type": "code",
   "execution_count": 25,
   "outputs": [
    {
     "name": "stderr",
     "output_type": "stream",
     "text": [
      "9720it [04:27, 36.33it/s] \n"
     ]
    }
   ],
   "source": [
    "smape_wolfram_gradient_decent_1 = gradient_function_1(mistake=smape,\n",
    "                                              mistake_gradient=smape_gradient_wolfram)"
   ],
   "metadata": {
    "collapsed": false,
    "pycharm": {
     "name": "#%%\n"
    }
   }
  },
  {
   "cell_type": "code",
   "execution_count": 26,
   "outputs": [],
   "source": [
    "smape_wolfram_gradient_decent_1_q = smape_wolfram_gradient_decent_1[smape_wolfram_gradient_decent_1['Final Q'] ==\n",
    "                                                    smape_wolfram_gradient_decent_1['Final Q'].min()]\n",
    "smape_wolfram_gradient_decent_1_nrmse = smape_wolfram_gradient_decent_1[smape_wolfram_gradient_decent_1['NRMSE Mistake'] ==\n",
    "                                                    smape_wolfram_gradient_decent_1['NRMSE Mistake'].min()]\n",
    "smape_wolfram_gradient_decent_1_smape = smape_wolfram_gradient_decent_1[smape_wolfram_gradient_decent_1['SMAPE Mistake'] ==\n",
    "                                                    smape_wolfram_gradient_decent_1['SMAPE Mistake'].min()]"
   ],
   "metadata": {
    "collapsed": false,
    "pycharm": {
     "name": "#%%\n"
    }
   }
  },
  {
   "cell_type": "markdown",
   "source": [
    "### Пакет размера 5"
   ],
   "metadata": {
    "collapsed": false
   }
  },
  {
   "cell_type": "code",
   "execution_count": 27,
   "outputs": [
    {
     "name": "stderr",
     "output_type": "stream",
     "text": [
      "9720it [06:23, 25.33it/s]\n"
     ]
    }
   ],
   "source": [
    "smape_wolfram_gradient_decent_5 = gradient_function_5(mistake=smape,\n",
    "                                              mistake_gradient=smape_gradient_wolfram)"
   ],
   "metadata": {
    "collapsed": false,
    "pycharm": {
     "name": "#%%\n"
    }
   }
  },
  {
   "cell_type": "code",
   "execution_count": 28,
   "outputs": [],
   "source": [
    "smape_wolfram_gradient_decent_5_q = smape_wolfram_gradient_decent_5[smape_wolfram_gradient_decent_5['Final Q'] ==\n",
    "                                                    smape_wolfram_gradient_decent_5['Final Q'].min()]\n",
    "smape_wolfram_gradient_decent_5_nrmse = smape_wolfram_gradient_decent_5[smape_wolfram_gradient_decent_5['NRMSE Mistake'] ==\n",
    "                                                    smape_wolfram_gradient_decent_5['NRMSE Mistake'].min()]\n",
    "smape_wolfram_gradient_decent_5_smape = smape_wolfram_gradient_decent_5[smape_wolfram_gradient_decent_5['SMAPE Mistake'] ==\n",
    "                                                    smape_wolfram_gradient_decent_5['SMAPE Mistake'].min()]"
   ],
   "metadata": {
    "collapsed": false,
    "pycharm": {
     "name": "#%%\n"
    }
   }
  },
  {
   "cell_type": "markdown",
   "source": [
    "### Пакет размера 10"
   ],
   "metadata": {
    "collapsed": false
   }
  },
  {
   "cell_type": "code",
   "execution_count": 29,
   "outputs": [
    {
     "name": "stderr",
     "output_type": "stream",
     "text": [
      "9720it [10:20, 15.67it/s]\n"
     ]
    }
   ],
   "source": [
    "smape_wolfram_gradient_decent_10 = gradient_function_10(mistake=smape,\n",
    "                                              mistake_gradient=smape_gradient_wolfram)"
   ],
   "metadata": {
    "collapsed": false,
    "pycharm": {
     "name": "#%%\n"
    }
   }
  },
  {
   "cell_type": "code",
   "execution_count": 30,
   "outputs": [],
   "source": [
    "smape_wolfram_gradient_decent_10_q = smape_wolfram_gradient_decent_10[smape_wolfram_gradient_decent_10['Final Q'] ==\n",
    "                                                    smape_wolfram_gradient_decent_10['Final Q'].min()]\n",
    "smape_wolfram_gradient_decent_10_nrmse = smape_wolfram_gradient_decent_10[smape_wolfram_gradient_decent_10['NRMSE Mistake'] ==\n",
    "                                                    smape_wolfram_gradient_decent_10['NRMSE Mistake'].min()]\n",
    "smape_wolfram_gradient_decent_10_smape = smape_wolfram_gradient_decent_10[smape_wolfram_gradient_decent_10['SMAPE Mistake'] ==\n",
    "                                                    smape_wolfram_gradient_decent_10['SMAPE Mistake'].min()]"
   ],
   "metadata": {
    "collapsed": false,
    "pycharm": {
     "name": "#%%\n"
    }
   }
  },
  {
   "cell_type": "markdown",
   "source": [
    "### Графики"
   ],
   "metadata": {
    "collapsed": false
   }
  },
  {
   "cell_type": "code",
   "execution_count": 73,
   "outputs": [
    {
     "data": {
      "text/plain": "<Figure size 432x288 with 1 Axes>",
      "image/png": "[encoded data removed]"
     },
     "metadata": {
      "needs_background": "light"
     },
     "output_type": "display_data"
    },
    {
     "data": {
      "text/plain": "    Regularisation       Tau Step strategy   Mu  Alpha   Epsilon  \\\n477          ridge  0.000912        linear  1.0    1.0  0.000045   \n\n     Change if bigger  NRMSE Mistake  SMAPE Mistake   Final Q  \\\n477              True       0.001998       0.124899  0.104507   \n\n                                              Mistakes  \\\n477  [33.713968992376984, 17.827090788498197, 16.34...   \n\n                                                Result  \n477  [-0.08011634824738192, -0.0024418402831237985,...  ",
      "text/html": "<div>\n<style scoped>\n    .dataframe tbody tr th:only-of-type {\n        vertical-align: middle;\n    }\n\n    .dataframe tbody tr th {\n        vertical-align: top;\n    }\n\n    .dataframe thead th {\n        text-align: right;\n    }\n</style>\n<table border=\"1\" class=\"dataframe\">\n  <thead>\n    <tr style=\"text-align: right;\">\n      <th></th>\n      <th>Regularisation</th>\n      <th>Tau</th>\n      <th>Step strategy</th>\n      <th>Mu</th>\n      <th>Alpha</th>\n      <th>Epsilon</th>\n      <th>Change if bigger</th>\n      <th>NRMSE Mistake</th>\n      <th>SMAPE Mistake</th>\n      <th>Final Q</th>\n      <th>Mistakes</th>\n      <th>Result</th>\n    </tr>\n  </thead>\n  <tbody>\n    <tr>\n      <th>477</th>\n      <td>ridge</td>\n      <td>0.000912</td>\n      <td>linear</td>\n      <td>1.0</td>\n      <td>1.0</td>\n      <td>0.000045</td>\n      <td>True</td>\n      <td>0.001998</td>\n      <td>0.124899</td>\n      <td>0.104507</td>\n      <td>[33.713968992376984, 17.827090788498197, 16.34...</td>\n      <td>[-0.08011634824738192, -0.0024418402831237985,...</td>\n    </tr>\n  </tbody>\n</table>\n</div>"
     },
     "execution_count": 73,
     "metadata": {},
     "output_type": "execute_result"
    }
   ],
   "source": [
    "mistakes = smape_wolfram_gradient_decent_10_q['Mistakes'].to_numpy()[0]\n",
    "plt.plot(arange(1, mistakes.size + 1), mistakes)\n",
    "plt.xlabel('Итерация')\n",
    "plt.ylabel('Ошибка')\n",
    "plt.title('Градиентный спуск SMAPE Wolfram. Минимальное Q. Зависимость ошибки от итерации.')\n",
    "plt.show()\n",
    "smape_wolfram_gradient_decent_10_q"
   ],
   "metadata": {
    "collapsed": false,
    "pycharm": {
     "name": "#%%\n"
    }
   }
  },
  {
   "cell_type": "code",
   "execution_count": 72,
   "outputs": [
    {
     "data": {
      "text/plain": "<Figure size 432x288 with 1 Axes>",
      "image/png": "[encoded data removed]"
     },
     "metadata": {
      "needs_background": "light"
     },
     "output_type": "display_data"
    },
    {
     "data": {
      "text/plain": "    Regularisation       Tau Step strategy   Mu  Alpha   Epsilon  \\\n468          ridge  0.000912        linear  1.0    0.0  0.000045   \n\n     Change if bigger  NRMSE Mistake  SMAPE Mistake    Final Q  \\\n468             False       0.001901       0.115488  99.991467   \n\n                                              Mistakes  \\\n468  [99.99146684264649, 99.99146684264649, 99.9914...   \n\n                                                Result  \n468  [-0.06094353992011724, 0.057344472000729396, -...  ",
      "text/html": "<div>\n<style scoped>\n    .dataframe tbody tr th:only-of-type {\n        vertical-align: middle;\n    }\n\n    .dataframe tbody tr th {\n        vertical-align: top;\n    }\n\n    .dataframe thead th {\n        text-align: right;\n    }\n</style>\n<table border=\"1\" class=\"dataframe\">\n  <thead>\n    <tr style=\"text-align: right;\">\n      <th></th>\n      <th>Regularisation</th>\n      <th>Tau</th>\n      <th>Step strategy</th>\n      <th>Mu</th>\n      <th>Alpha</th>\n      <th>Epsilon</th>\n      <th>Change if bigger</th>\n      <th>NRMSE Mistake</th>\n      <th>SMAPE Mistake</th>\n      <th>Final Q</th>\n      <th>Mistakes</th>\n      <th>Result</th>\n    </tr>\n  </thead>\n  <tbody>\n    <tr>\n      <th>468</th>\n      <td>ridge</td>\n      <td>0.000912</td>\n      <td>linear</td>\n      <td>1.0</td>\n      <td>0.0</td>\n      <td>0.000045</td>\n      <td>False</td>\n      <td>0.001901</td>\n      <td>0.115488</td>\n      <td>99.991467</td>\n      <td>[99.99146684264649, 99.99146684264649, 99.9914...</td>\n      <td>[-0.06094353992011724, 0.057344472000729396, -...</td>\n    </tr>\n  </tbody>\n</table>\n</div>"
     },
     "execution_count": 72,
     "metadata": {},
     "output_type": "execute_result"
    }
   ],
   "source": [
    "mistakes = smape_wolfram_gradient_decent_10_nrmse['Mistakes'].to_numpy()[0]\n",
    "plt.plot(arange(1, mistakes.size + 1), mistakes)\n",
    "plt.xlabel('Итерация')\n",
    "plt.ylabel('Ошибка')\n",
    "plt.title('Градиентный спуск SMAPE Wolfram. Минимальное NRMSE. Зависимость ошибки от итерации.')\n",
    "plt.show()\n",
    "smape_wolfram_gradient_decent_10_nrmse"
   ],
   "metadata": {
    "collapsed": false,
    "pycharm": {
     "name": "#%%\n"
    }
   }
  },
  {
   "cell_type": "code",
   "execution_count": 71,
   "outputs": [
    {
     "data": {
      "text/plain": "<Figure size 432x288 with 1 Axes>",
      "image/png": "[encoded data removed]"
     },
     "metadata": {
      "needs_background": "light"
     },
     "output_type": "display_data"
    },
    {
     "data": {
      "text/plain": "    Regularisation       Tau Step strategy   Mu  Alpha   Epsilon  \\\n468          ridge  0.000912        linear  1.0    0.0  0.000045   \n\n     Change if bigger  NRMSE Mistake  SMAPE Mistake    Final Q  \\\n468             False       0.001901       0.115488  99.991467   \n\n                                              Mistakes  \\\n468  [99.99146684264649, 99.99146684264649, 99.9914...   \n\n                                                Result  \n468  [-0.06094353992011724, 0.057344472000729396, -...  ",
      "text/html": "<div>\n<style scoped>\n    .dataframe tbody tr th:only-of-type {\n        vertical-align: middle;\n    }\n\n    .dataframe tbody tr th {\n        vertical-align: top;\n    }\n\n    .dataframe thead th {\n        text-align: right;\n    }\n</style>\n<table border=\"1\" class=\"dataframe\">\n  <thead>\n    <tr style=\"text-align: right;\">\n      <th></th>\n      <th>Regularisation</th>\n      <th>Tau</th>\n      <th>Step strategy</th>\n      <th>Mu</th>\n      <th>Alpha</th>\n      <th>Epsilon</th>\n      <th>Change if bigger</th>\n      <th>NRMSE Mistake</th>\n      <th>SMAPE Mistake</th>\n      <th>Final Q</th>\n      <th>Mistakes</th>\n      <th>Result</th>\n    </tr>\n  </thead>\n  <tbody>\n    <tr>\n      <th>468</th>\n      <td>ridge</td>\n      <td>0.000912</td>\n      <td>linear</td>\n      <td>1.0</td>\n      <td>0.0</td>\n      <td>0.000045</td>\n      <td>False</td>\n      <td>0.001901</td>\n      <td>0.115488</td>\n      <td>99.991467</td>\n      <td>[99.99146684264649, 99.99146684264649, 99.9914...</td>\n      <td>[-0.06094353992011724, 0.057344472000729396, -...</td>\n    </tr>\n  </tbody>\n</table>\n</div>"
     },
     "execution_count": 71,
     "metadata": {},
     "output_type": "execute_result"
    }
   ],
   "source": [
    "mistakes = smape_wolfram_gradient_decent_10_smape['Mistakes'].to_numpy()[0]\n",
    "plt.plot(arange(1, mistakes.size + 1), mistakes)\n",
    "plt.xlabel('Итерация')\n",
    "plt.ylabel('Ошибка')\n",
    "plt.title('Градиентный спуск SMAPE Wolfram. Минимальное SMAPE. Зависимость ошибки от итерации.')\n",
    "plt.show()\n",
    "smape_wolfram_gradient_decent_10_smape"
   ],
   "metadata": {
    "collapsed": false,
    "pycharm": {
     "name": "#%%\n"
    }
   }
  },
  {
   "cell_type": "markdown",
   "source": [
    "# Ошибки"
   ],
   "metadata": {
    "collapsed": false
   }
  },
  {
   "cell_type": "markdown",
   "source": [
    "## SVD"
   ],
   "metadata": {
    "collapsed": false
   }
  },
  {
   "cell_type": "code",
   "execution_count": 60,
   "outputs": [
    {
     "name": "stdout",
     "output_type": "stream",
     "text": [
      "Минимальный NRMSE полученный SVD:1.331355893403747e-05\n",
      "Минимальный SMAPe полученный SVD:0.000980887067060312\n"
     ]
    }
   ],
   "source": [
    "print(f\"Минимальный NRMSE полученный SVD:{svd_result[svd_result['NRMSE Mistake'] == svd_result['NRMSE Mistake'].min()]['NRMSE Mistake'].to_numpy()[0]}\")\n",
    "print(f\"Минимальный SMAPe полученный SVD:{svd_result[svd_result['SMAPE Mistake'] == svd_result['SMAPE Mistake'].min()]['SMAPE Mistake'].to_numpy()[0]}\")\n"
   ],
   "metadata": {
    "collapsed": false,
    "pycharm": {
     "name": "#%%\n"
    }
   }
  },
  {
   "cell_type": "markdown",
   "source": [
    "## Градиент NRMSE"
   ],
   "metadata": {
    "collapsed": false
   }
  },
  {
   "cell_type": "markdown",
   "source": [
    "### Пакет размера 1"
   ],
   "metadata": {
    "collapsed": false
   }
  },
  {
   "cell_type": "code",
   "execution_count": 62,
   "outputs": [
    {
     "name": "stdout",
     "output_type": "stream",
     "text": [
      "NRMSE для минимального Q:0.013551866122090195\n",
      "SMAPE для минимального Q:0.7059594662333453\n",
      "NRMSE для минимального NRMSE:0.013281718117171059\n",
      "SMAPE для минимального NRMSE:0.6908770050135128\n",
      "NRMSE для минимального SMAPE:0.013319322128147513\n",
      "SMAPE для минимального SMAPE:0.6675464318897013\n"
     ]
    }
   ],
   "source": [
    "print(f\"NRMSE для минимального Q:{nrmse_gradient_decent_1_q['NRMSE Mistake'].to_numpy()[0]}\")\n",
    "print(f'SMAPE для минимального Q:{nrmse_gradient_decent_1_q[\"SMAPE Mistake\"].to_numpy()[0]}')\n",
    "print(f'NRMSE для минимального NRMSE:{nrmse_gradient_decent_1_nrmse[\"NRMSE Mistake\"].to_numpy()[0]}')\n",
    "print(f'SMAPE для минимального NRMSE:{nrmse_gradient_decent_1_nrmse[\"SMAPE Mistake\"].to_numpy()[0]}')\n",
    "print(f'NRMSE для минимального SMAPE:{nrmse_gradient_decent_1_smape[\"NRMSE Mistake\"].to_numpy()[0]}')\n",
    "print(f'SMAPE для минимального SMAPE:{nrmse_gradient_decent_1_smape[\"SMAPE Mistake\"].to_numpy()[0]}')"
   ],
   "metadata": {
    "collapsed": false,
    "pycharm": {
     "name": "#%%\n"
    }
   }
  },
  {
   "cell_type": "markdown",
   "source": [
    "### Пакет размера 5"
   ],
   "metadata": {
    "collapsed": false
   }
  },
  {
   "cell_type": "code",
   "execution_count": 63,
   "outputs": [
    {
     "name": "stdout",
     "output_type": "stream",
     "text": [
      "NRMSE для минимального Q:0.003344841360532797\n",
      "SMAPE для минимального Q:0.17350026793166137\n",
      "NRMSE для минимального NRMSE:0.0022365523440828275\n",
      "SMAPE для минимального NRMSE:0.18153785908796216\n",
      "NRMSE для минимального SMAPE:0.0027687452296591454\n",
      "SMAPE для минимального SMAPE:0.14566049101240566\n"
     ]
    }
   ],
   "source": [
    "print(f'NRMSE для минимального Q:{nrmse_gradient_decent_5_q[\"NRMSE Mistake\"].to_numpy()[0]}')\n",
    "print(f'SMAPE для минимального Q:{nrmse_gradient_decent_5_q[\"SMAPE Mistake\"].to_numpy()[0]}')\n",
    "print(f'NRMSE для минимального NRMSE:{nrmse_gradient_decent_5_nrmse[\"NRMSE Mistake\"].to_numpy()[0]}')\n",
    "print(f'SMAPE для минимального NRMSE:{nrmse_gradient_decent_5_nrmse[\"SMAPE Mistake\"].to_numpy()[0]}')\n",
    "print(f'NRMSE для минимального SMAPE:{nrmse_gradient_decent_5_smape[\"NRMSE Mistake\"].to_numpy()[0]}')\n",
    "print(f'SMAPE для минимального SMAPE:{nrmse_gradient_decent_5_smape[\"SMAPE Mistake\"].to_numpy()[0]}')"
   ],
   "metadata": {
    "collapsed": false,
    "pycharm": {
     "name": "#%%\n"
    }
   }
  },
  {
   "cell_type": "markdown",
   "source": [
    "### Пакет размера 10"
   ],
   "metadata": {
    "collapsed": false
   }
  },
  {
   "cell_type": "code",
   "source": [
    "print(f'NRMSE для минимального Q:{nrmse_gradient_decent_10_q[\"NRMSE Mistake\"].to_numpy()[0]}')\n",
    "print(f'SMAPE для минимального Q:{nrmse_gradient_decent_10_q[\"SMAPE Mistake\"].to_numpy()[0]}')\n",
    "print(f'NRMSE для минимального NRMSE:{nrmse_gradient_decent_10_nrmse[\"NRMSE Mistake\"].to_numpy()[0]}')\n",
    "print(f'SMAPE для минимального NRMSE:{nrmse_gradient_decent_10_nrmse[\"SMAPE Mistake\"].to_numpy()[0]}')\n",
    "print(f'NRMSE для минимального SMAPE:{nrmse_gradient_decent_10_smape[\"NRMSE Mistake\"].to_numpy()[0]}')\n",
    "print(f'SMAPE для минимального SMAPE:{nrmse_gradient_decent_10_smape[\"SMAPE Mistake\"].to_numpy()[0]}')"
   ],
   "metadata": {
    "collapsed": false,
    "pycharm": {
     "name": "#%%\n"
    }
   },
   "execution_count": 64,
   "outputs": [
    {
     "name": "stdout",
     "output_type": "stream",
     "text": [
      "NRMSE для минимального Q:0.003353174074941035\n",
      "SMAPE для минимального Q:0.19733462822389813\n",
      "NRMSE для минимального NRMSE:0.003295910354405868\n",
      "SMAPE для минимального NRMSE:0.19350072800858195\n",
      "NRMSE для минимального SMAPE:0.003295910354405868\n",
      "SMAPE для минимального SMAPE:0.19350072800858195\n"
     ]
    }
   ]
  },
  {
   "cell_type": "markdown",
   "source": [
    "## Градиент SMAPE"
   ],
   "metadata": {
    "collapsed": false
   }
  },
  {
   "cell_type": "markdown",
   "source": [
    "### Пакет размера 1"
   ],
   "metadata": {
    "collapsed": false
   }
  },
  {
   "cell_type": "code",
   "execution_count": 65,
   "outputs": [
    {
     "name": "stdout",
     "output_type": "stream",
     "text": [
      "NRMSE для минимального Q:0.033334968752991447\n",
      "SMAPE для минимального Q:2.130119242656473\n",
      "NRMSE для минимального NRMSE:0.01768608222247612\n",
      "SMAPE для минимального NRMSE:0.9923070882351874\n",
      "NRMSE для минимального SMAPE:0.01768608222247612\n",
      "SMAPE для минимального SMAPE:0.9923070882351874\n"
     ]
    }
   ],
   "source": [
    "print(f'NRMSE для минимального Q:{smape_gradient_decent_1_q[\"NRMSE Mistake\"].to_numpy()[0]}')\n",
    "print(f'SMAPE для минимального Q:{smape_gradient_decent_1_q[\"SMAPE Mistake\"].to_numpy()[0]}')\n",
    "print(f'NRMSE для минимального NRMSE:{smape_gradient_decent_1_nrmse[\"NRMSE Mistake\"].to_numpy()[0]}')\n",
    "print(f'SMAPE для минимального NRMSE:{smape_gradient_decent_1_nrmse[\"SMAPE Mistake\"].to_numpy()[0]}')\n",
    "print(f'NRMSE для минимального SMAPE:{smape_gradient_decent_1_smape[\"NRMSE Mistake\"].to_numpy()[0]}')\n",
    "print(f'SMAPE для минимального SMAPE:{smape_gradient_decent_1_smape[\"SMAPE Mistake\"].to_numpy()[0]}')"
   ],
   "metadata": {
    "collapsed": false,
    "pycharm": {
     "name": "#%%\n"
    }
   }
  },
  {
   "cell_type": "markdown",
   "source": [
    "### Пакет размера 5"
   ],
   "metadata": {
    "collapsed": false
   }
  },
  {
   "cell_type": "code",
   "execution_count": 66,
   "outputs": [
    {
     "name": "stdout",
     "output_type": "stream",
     "text": [
      "NRMSE для минимального Q:0.0068761947798421375\n",
      "SMAPE для минимального Q:0.38444329694797774\n",
      "NRMSE для минимального NRMSE:0.005378255628146587\n",
      "SMAPE для минимального NRMSE:0.5102087442796386\n",
      "NRMSE для минимального SMAPE:0.0062787022793051135\n",
      "SMAPE для минимального SMAPE:0.3277483538423172\n"
     ]
    }
   ],
   "source": [
    "print(f'NRMSE для минимального Q:{smape_gradient_decent_5_q[\"NRMSE Mistake\"].to_numpy()[0]}')\n",
    "print(f'SMAPE для минимального Q:{smape_gradient_decent_5_q[\"SMAPE Mistake\"].to_numpy()[0]}')\n",
    "print(f'NRMSE для минимального NRMSE:{smape_gradient_decent_5_nrmse[\"NRMSE Mistake\"].to_numpy()[0]}')\n",
    "print(f'SMAPE для минимального NRMSE:{smape_gradient_decent_5_nrmse[\"SMAPE Mistake\"].to_numpy()[0]}')\n",
    "print(f'NRMSE для минимального SMAPE:{smape_gradient_decent_5_smape[\"NRMSE Mistake\"].to_numpy()[0]}')\n",
    "print(f'SMAPE для минимального SMAPE:{smape_gradient_decent_5_smape[\"SMAPE Mistake\"].to_numpy()[0]}')"
   ],
   "metadata": {
    "collapsed": false,
    "pycharm": {
     "name": "#%%\n"
    }
   }
  },
  {
   "cell_type": "markdown",
   "source": [
    "### Пакет размера 10"
   ],
   "metadata": {
    "collapsed": false
   }
  },
  {
   "cell_type": "code",
   "execution_count": 67,
   "outputs": [
    {
     "name": "stdout",
     "output_type": "stream",
     "text": [
      "NRMSE для минимального Q:0.002227521165746882\n",
      "SMAPE для минимального Q:0.15268111445980548\n",
      "NRMSE для минимального NRMSE:0.0018440361862262942\n",
      "SMAPE для минимального NRMSE:0.10255128201538727\n",
      "NRMSE для минимального SMAPE:0.0018440361862262942\n",
      "SMAPE для минимального SMAPE:0.10255128201538727\n"
     ]
    }
   ],
   "source": [
    "print(f'NRMSE для минимального Q:{smape_gradient_decent_10_q[\"NRMSE Mistake\"].to_numpy()[0]}')\n",
    "print(f'SMAPE для минимального Q:{smape_gradient_decent_10_q[\"SMAPE Mistake\"].to_numpy()[0]}')\n",
    "print(f'NRMSE для минимального NRMSE:{smape_gradient_decent_10_nrmse[\"NRMSE Mistake\"].to_numpy()[0]}')\n",
    "print(f'SMAPE для минимального NRMSE:{smape_gradient_decent_10_nrmse[\"SMAPE Mistake\"].to_numpy()[0]}')\n",
    "print(f'NRMSE для минимального SMAPE:{smape_gradient_decent_10_smape[\"NRMSE Mistake\"].to_numpy()[0]}')\n",
    "print(f'SMAPE для минимального SMAPE:{smape_gradient_decent_10_smape[\"SMAPE Mistake\"].to_numpy()[0]}')"
   ],
   "metadata": {
    "collapsed": false,
    "pycharm": {
     "name": "#%%\n"
    }
   }
  },
  {
   "cell_type": "markdown",
   "source": [
    "## Градиентный SMAPE Wolfram"
   ],
   "metadata": {
    "collapsed": false
   }
  },
  {
   "cell_type": "markdown",
   "source": [
    "### Пакет размера 1"
   ],
   "metadata": {
    "collapsed": false
   }
  },
  {
   "cell_type": "code",
   "execution_count": 68,
   "outputs": [
    {
     "name": "stdout",
     "output_type": "stream",
     "text": [
      "NRMSE для минимального Q:0.3518770008160405\n",
      "SMAPE для минимального Q:15.721294721335251\n",
      "NRMSE для минимального NRMSE:0.01545740843257935\n",
      "SMAPE для минимального NRMSE:1.223845198967539\n",
      "NRMSE для минимального SMAPE:0.017941624507915456\n",
      "SMAPE для минимального SMAPE:0.9708435614148596\n"
     ]
    }
   ],
   "source": [
    "print(f'NRMSE для минимального Q:{smape_wolfram_gradient_decent_1_q[\"NRMSE Mistake\"].to_numpy()[0]}')\n",
    "print(f'SMAPE для минимального Q:{smape_wolfram_gradient_decent_1_q[\"SMAPE Mistake\"].to_numpy()[0]}')\n",
    "print(f'NRMSE для минимального NRMSE:{smape_wolfram_gradient_decent_1_nrmse[\"NRMSE Mistake\"].to_numpy()[0]}')\n",
    "print(f'SMAPE для минимального NRMSE:{smape_wolfram_gradient_decent_1_nrmse[\"SMAPE Mistake\"].to_numpy()[0]}')\n",
    "print(f'NRMSE для минимального SMAPE:{smape_wolfram_gradient_decent_1_smape[\"NRMSE Mistake\"].to_numpy()[0]}')\n",
    "print(f'SMAPE для минимального SMAPE:{smape_wolfram_gradient_decent_1_smape[\"SMAPE Mistake\"].to_numpy()[0]}')"
   ],
   "metadata": {
    "collapsed": false,
    "pycharm": {
     "name": "#%%\n"
    }
   }
  },
  {
   "cell_type": "markdown",
   "source": [
    "### Пакет размера 5"
   ],
   "metadata": {
    "collapsed": false
   }
  },
  {
   "cell_type": "code",
   "execution_count": 69,
   "outputs": [
    {
     "name": "stdout",
     "output_type": "stream",
     "text": [
      "NRMSE для минимального Q:0.004299341600719046\n",
      "SMAPE для минимального Q:0.26371859090784944\n",
      "NRMSE для минимального NRMSE:0.002417029192807919\n",
      "SMAPE для минимального NRMSE:0.14595512453839501\n",
      "NRMSE для минимального SMAPE:0.002417029192807919\n",
      "SMAPE для минимального SMAPE:0.14595512453839501\n"
     ]
    }
   ],
   "source": [
    "print(f'NRMSE для минимального Q:{smape_wolfram_gradient_decent_5_q[\"NRMSE Mistake\"].to_numpy()[0]}')\n",
    "print(f'SMAPE для минимального Q:{smape_wolfram_gradient_decent_5_q[\"SMAPE Mistake\"].to_numpy()[0]}')\n",
    "print(f'NRMSE для минимального NRMSE:{smape_wolfram_gradient_decent_5_nrmse[\"NRMSE Mistake\"].to_numpy()[0]}')\n",
    "print(f'SMAPE для минимального NRMSE:{smape_wolfram_gradient_decent_5_nrmse[\"SMAPE Mistake\"].to_numpy()[0]}')\n",
    "print(f'NRMSE для минимального SMAPE:{smape_wolfram_gradient_decent_5_smape[\"NRMSE Mistake\"].to_numpy()[0]}')\n",
    "print(f'SMAPE для минимального SMAPE:{smape_wolfram_gradient_decent_5_smape[\"SMAPE Mistake\"].to_numpy()[0]}')"
   ],
   "metadata": {
    "collapsed": false,
    "pycharm": {
     "name": "#%%\n"
    }
   }
  },
  {
   "cell_type": "markdown",
   "source": [
    "### Пакет размера 10"
   ],
   "metadata": {
    "collapsed": false
   }
  },
  {
   "cell_type": "code",
   "execution_count": 70,
   "outputs": [
    {
     "name": "stdout",
     "output_type": "stream",
     "text": [
      "NRMSE для минимального Q:0.001998282215434259\n",
      "SMAPE для минимального Q:0.12489929527094157\n",
      "NRMSE для минимального NRMSE:0.0019008858632428725\n",
      "SMAPE для минимального NRMSE:0.11548805479055044\n",
      "NRMSE для минимального SMAPE:0.0019008858632428725\n",
      "SMAPE для минимального SMAPE:0.11548805479055044\n"
     ]
    }
   ],
   "source": [
    "print(f'NRMSE для минимального Q:{smape_wolfram_gradient_decent_10_q[\"NRMSE Mistake\"].to_numpy()[0]}')\n",
    "print(f'SMAPE для минимального Q:{smape_wolfram_gradient_decent_10_q[\"SMAPE Mistake\"].to_numpy()[0]}')\n",
    "print(f'NRMSE для минимального NRMSE:{smape_wolfram_gradient_decent_10_nrmse[\"NRMSE Mistake\"].to_numpy()[0]}')\n",
    "print(f'SMAPE для минимального NRMSE:{smape_wolfram_gradient_decent_10_nrmse[\"SMAPE Mistake\"].to_numpy()[0]}')\n",
    "print(f'NRMSE для минимального SMAPE:{smape_wolfram_gradient_decent_10_smape[\"NRMSE Mistake\"].to_numpy()[0]}')\n",
    "print(f'SMAPE для минимального SMAPE:{smape_wolfram_gradient_decent_10_smape[\"SMAPE Mistake\"].to_numpy()[0]}')"
   ],
   "metadata": {
    "collapsed": false,
    "pycharm": {
     "name": "#%%\n"
    }
   }
  }
 ],
 "metadata": {
  "kernelspec": {
   "display_name": "Python 3",
   "language": "python",
   "name": "python3"
  },
  "language_info": {
   "codemirror_mode": {
    "name": "ipython",
    "version": 2
   },
   "file_extension": ".py",
   "mimetype": "text/x-python",
   "name": "python",
   "nbconvert_exporter": "python",
   "pygments_lexer": "ipython2",
   "version": "2.7.6"
  }
 },
 "nbformat": 4,
 "nbformat_minor": 0
}