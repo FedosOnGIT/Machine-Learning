{
 "cells": [
  {
   "cell_type": "code",
   "execution_count": 79,
   "metadata": {
    "collapsed": true
   },
   "outputs": [],
   "source": [
    "import numpy\n",
    "import pandas\n",
    "from pandas import DataFrame"
   ]
  },
  {
   "cell_type": "markdown",
   "source": [
    "# Цели работы:\n",
    "1. Практика первичных навыков обработки данных: нормализация, One-Hot преобразование;\n",
    "2. Сведение задачи классификации к задаче непараметрической регрессии;\n",
    "3. Реализация решения задачи непараметрической регрессии ядерным сглаживанием Надарая Ватсона;\n",
    "4. Практика наивного способа настройки и анализа гиперпараметров модели, решающей задачу непараметрической регрессии."
   ],
   "metadata": {
    "collapsed": false
   }
  },
  {
   "cell_type": "code",
   "execution_count": 80,
   "outputs": [
    {
     "data": {
      "text/plain": "     class  Alcohol  Malic_acid   Ash  Alcalinity_of_ash  Magnesium  \\\n0        1    14.23        1.71  2.43               15.6        127   \n1        1    13.20        1.78  2.14               11.2        100   \n2        1    13.16        2.36  2.67               18.6        101   \n3        1    14.37        1.95  2.50               16.8        113   \n4        1    13.24        2.59  2.87               21.0        118   \n..     ...      ...         ...   ...                ...        ...   \n173      3    13.71        5.65  2.45               20.5         95   \n174      3    13.40        3.91  2.48               23.0        102   \n175      3    13.27        4.28  2.26               20.0        120   \n176      3    13.17        2.59  2.37               20.0        120   \n177      3    14.13        4.10  2.74               24.5         96   \n\n     Total_phenols  Flavanoids  Nonflavanoid_phenols  Proanthocyanins  \\\n0             2.80        3.06                  0.28             2.29   \n1             2.65        2.76                  0.26             1.28   \n2             2.80        3.24                  0.30             2.81   \n3             3.85        3.49                  0.24             2.18   \n4             2.80        2.69                  0.39             1.82   \n..             ...         ...                   ...              ...   \n173           1.68        0.61                  0.52             1.06   \n174           1.80        0.75                  0.43             1.41   \n175           1.59        0.69                  0.43             1.35   \n176           1.65        0.68                  0.53             1.46   \n177           2.05        0.76                  0.56             1.35   \n\n     Color_intensity   Hue  OD280%2FOD315_of_diluted_wines  Proline  \n0               5.64  1.04                            3.92     1065  \n1               4.38  1.05                            3.40     1050  \n2               5.68  1.03                            3.17     1185  \n3               7.80  0.86                            3.45     1480  \n4               4.32  1.04                            2.93      735  \n..               ...   ...                             ...      ...  \n173             7.70  0.64                            1.74      740  \n174             7.30  0.70                            1.56      750  \n175            10.20  0.59                            1.56      835  \n176             9.30  0.60                            1.62      840  \n177             9.20  0.61                            1.60      560  \n\n[178 rows x 14 columns]",
      "text/html": "<div>\n<style scoped>\n    .dataframe tbody tr th:only-of-type {\n        vertical-align: middle;\n    }\n\n    .dataframe tbody tr th {\n        vertical-align: top;\n    }\n\n    .dataframe thead th {\n        text-align: right;\n    }\n</style>\n<table border=\"1\" class=\"dataframe\">\n  <thead>\n    <tr style=\"text-align: right;\">\n      <th></th>\n      <th>class</th>\n      <th>Alcohol</th>\n      <th>Malic_acid</th>\n      <th>Ash</th>\n      <th>Alcalinity_of_ash</th>\n      <th>Magnesium</th>\n      <th>Total_phenols</th>\n      <th>Flavanoids</th>\n      <th>Nonflavanoid_phenols</th>\n      <th>Proanthocyanins</th>\n      <th>Color_intensity</th>\n      <th>Hue</th>\n      <th>OD280%2FOD315_of_diluted_wines</th>\n      <th>Proline</th>\n    </tr>\n  </thead>\n  <tbody>\n    <tr>\n      <th>0</th>\n      <td>1</td>\n      <td>14.23</td>\n      <td>1.71</td>\n      <td>2.43</td>\n      <td>15.6</td>\n      <td>127</td>\n      <td>2.80</td>\n      <td>3.06</td>\n      <td>0.28</td>\n      <td>2.29</td>\n      <td>5.64</td>\n      <td>1.04</td>\n      <td>3.92</td>\n      <td>1065</td>\n    </tr>\n    <tr>\n      <th>1</th>\n      <td>1</td>\n      <td>13.20</td>\n      <td>1.78</td>\n      <td>2.14</td>\n      <td>11.2</td>\n      <td>100</td>\n      <td>2.65</td>\n      <td>2.76</td>\n      <td>0.26</td>\n      <td>1.28</td>\n      <td>4.38</td>\n      <td>1.05</td>\n      <td>3.40</td>\n      <td>1050</td>\n    </tr>\n    <tr>\n      <th>2</th>\n      <td>1</td>\n      <td>13.16</td>\n      <td>2.36</td>\n      <td>2.67</td>\n      <td>18.6</td>\n      <td>101</td>\n      <td>2.80</td>\n      <td>3.24</td>\n      <td>0.30</td>\n      <td>2.81</td>\n      <td>5.68</td>\n      <td>1.03</td>\n      <td>3.17</td>\n      <td>1185</td>\n    </tr>\n    <tr>\n      <th>3</th>\n      <td>1</td>\n      <td>14.37</td>\n      <td>1.95</td>\n      <td>2.50</td>\n      <td>16.8</td>\n      <td>113</td>\n      <td>3.85</td>\n      <td>3.49</td>\n      <td>0.24</td>\n      <td>2.18</td>\n      <td>7.80</td>\n      <td>0.86</td>\n      <td>3.45</td>\n      <td>1480</td>\n    </tr>\n    <tr>\n      <th>4</th>\n      <td>1</td>\n      <td>13.24</td>\n      <td>2.59</td>\n      <td>2.87</td>\n      <td>21.0</td>\n      <td>118</td>\n      <td>2.80</td>\n      <td>2.69</td>\n      <td>0.39</td>\n      <td>1.82</td>\n      <td>4.32</td>\n      <td>1.04</td>\n      <td>2.93</td>\n      <td>735</td>\n    </tr>\n    <tr>\n      <th>...</th>\n      <td>...</td>\n      <td>...</td>\n      <td>...</td>\n      <td>...</td>\n      <td>...</td>\n      <td>...</td>\n      <td>...</td>\n      <td>...</td>\n      <td>...</td>\n      <td>...</td>\n      <td>...</td>\n      <td>...</td>\n      <td>...</td>\n      <td>...</td>\n    </tr>\n    <tr>\n      <th>173</th>\n      <td>3</td>\n      <td>13.71</td>\n      <td>5.65</td>\n      <td>2.45</td>\n      <td>20.5</td>\n      <td>95</td>\n      <td>1.68</td>\n      <td>0.61</td>\n      <td>0.52</td>\n      <td>1.06</td>\n      <td>7.70</td>\n      <td>0.64</td>\n      <td>1.74</td>\n      <td>740</td>\n    </tr>\n    <tr>\n      <th>174</th>\n      <td>3</td>\n      <td>13.40</td>\n      <td>3.91</td>\n      <td>2.48</td>\n      <td>23.0</td>\n      <td>102</td>\n      <td>1.80</td>\n      <td>0.75</td>\n      <td>0.43</td>\n      <td>1.41</td>\n      <td>7.30</td>\n      <td>0.70</td>\n      <td>1.56</td>\n      <td>750</td>\n    </tr>\n    <tr>\n      <th>175</th>\n      <td>3</td>\n      <td>13.27</td>\n      <td>4.28</td>\n      <td>2.26</td>\n      <td>20.0</td>\n      <td>120</td>\n      <td>1.59</td>\n      <td>0.69</td>\n      <td>0.43</td>\n      <td>1.35</td>\n      <td>10.20</td>\n      <td>0.59</td>\n      <td>1.56</td>\n      <td>835</td>\n    </tr>\n    <tr>\n      <th>176</th>\n      <td>3</td>\n      <td>13.17</td>\n      <td>2.59</td>\n      <td>2.37</td>\n      <td>20.0</td>\n      <td>120</td>\n      <td>1.65</td>\n      <td>0.68</td>\n      <td>0.53</td>\n      <td>1.46</td>\n      <td>9.30</td>\n      <td>0.60</td>\n      <td>1.62</td>\n      <td>840</td>\n    </tr>\n    <tr>\n      <th>177</th>\n      <td>3</td>\n      <td>14.13</td>\n      <td>4.10</td>\n      <td>2.74</td>\n      <td>24.5</td>\n      <td>96</td>\n      <td>2.05</td>\n      <td>0.76</td>\n      <td>0.56</td>\n      <td>1.35</td>\n      <td>9.20</td>\n      <td>0.61</td>\n      <td>1.60</td>\n      <td>560</td>\n    </tr>\n  </tbody>\n</table>\n<p>178 rows × 14 columns</p>\n</div>"
     },
     "execution_count": 80,
     "metadata": {},
     "output_type": "execute_result"
    }
   ],
   "source": [
    "data = pandas.read_csv(\"dataset_191_wine.csv\")\n",
    "data"
   ],
   "metadata": {
    "collapsed": false,
    "pycharm": {
     "name": "#%%\n"
    }
   }
  },
  {
   "cell_type": "markdown",
   "source": [
    "# Нормализация"
   ],
   "metadata": {
    "collapsed": false
   }
  },
  {
   "cell_type": "code",
   "source": [
    "from typing import List, Callable, Tuple\n",
    "\n",
    "\n",
    "def my_minmax_normalization(x: List[float]) -> List[float]:\n",
    "    x_max = numpy.max(x)\n",
    "    x_min = numpy.min(x)\n",
    "    return numpy.vectorize(lambda x_i: (x_i - x_min) / (x_max - x_min))(x)\n",
    "\n",
    "\n",
    "def my_minmax(table: DataFrame) -> DataFrame:\n",
    "    return table.apply(lambda column: my_minmax_normalization(column))\n",
    "\n",
    "\n",
    "attributes = my_minmax(data.drop(columns=[\"class\"]))\n",
    "attributes"
   ],
   "metadata": {
    "collapsed": false,
    "pycharm": {
     "name": "#%%\n"
    }
   },
   "execution_count": 81,
   "outputs": [
    {
     "data": {
      "text/plain": "      Alcohol  Malic_acid       Ash  Alcalinity_of_ash  Magnesium  \\\n0    0.842105    0.191700  0.572193           0.257732   0.619565   \n1    0.571053    0.205534  0.417112           0.030928   0.326087   \n2    0.560526    0.320158  0.700535           0.412371   0.336957   \n3    0.878947    0.239130  0.609626           0.319588   0.467391   \n4    0.581579    0.365613  0.807487           0.536082   0.521739   \n..        ...         ...       ...                ...        ...   \n173  0.705263    0.970356  0.582888           0.510309   0.271739   \n174  0.623684    0.626482  0.598930           0.639175   0.347826   \n175  0.589474    0.699605  0.481283           0.484536   0.543478   \n176  0.563158    0.365613  0.540107           0.484536   0.543478   \n177  0.815789    0.664032  0.737968           0.716495   0.282609   \n\n     Total_phenols  Flavanoids  Nonflavanoid_phenols  Proanthocyanins  \\\n0         0.627586    0.573840              0.283019         0.593060   \n1         0.575862    0.510549              0.245283         0.274448   \n2         0.627586    0.611814              0.320755         0.757098   \n3         0.989655    0.664557              0.207547         0.558360   \n4         0.627586    0.495781              0.490566         0.444795   \n..             ...         ...                   ...              ...   \n173       0.241379    0.056962              0.735849         0.205047   \n174       0.282759    0.086498              0.566038         0.315457   \n175       0.210345    0.073840              0.566038         0.296530   \n176       0.231034    0.071730              0.754717         0.331230   \n177       0.368966    0.088608              0.811321         0.296530   \n\n     Color_intensity       Hue  OD280%2FOD315_of_diluted_wines   Proline  \n0           0.372014  0.455285                        0.970696  0.561341  \n1           0.264505  0.463415                        0.780220  0.550642  \n2           0.375427  0.447154                        0.695971  0.646933  \n3           0.556314  0.308943                        0.798535  0.857347  \n4           0.259386  0.455285                        0.608059  0.325963  \n..               ...       ...                             ...       ...  \n173         0.547782  0.130081                        0.172161  0.329529  \n174         0.513652  0.178862                        0.106227  0.336662  \n175         0.761092  0.089431                        0.106227  0.397290  \n176         0.684300  0.097561                        0.128205  0.400856  \n177         0.675768  0.105691                        0.120879  0.201141  \n\n[178 rows x 13 columns]",
      "text/html": "<div>\n<style scoped>\n    .dataframe tbody tr th:only-of-type {\n        vertical-align: middle;\n    }\n\n    .dataframe tbody tr th {\n        vertical-align: top;\n    }\n\n    .dataframe thead th {\n        text-align: right;\n    }\n</style>\n<table border=\"1\" class=\"dataframe\">\n  <thead>\n    <tr style=\"text-align: right;\">\n      <th></th>\n      <th>Alcohol</th>\n      <th>Malic_acid</th>\n      <th>Ash</th>\n      <th>Alcalinity_of_ash</th>\n      <th>Magnesium</th>\n      <th>Total_phenols</th>\n      <th>Flavanoids</th>\n      <th>Nonflavanoid_phenols</th>\n      <th>Proanthocyanins</th>\n      <th>Color_intensity</th>\n      <th>Hue</th>\n      <th>OD280%2FOD315_of_diluted_wines</th>\n      <th>Proline</th>\n    </tr>\n  </thead>\n  <tbody>\n    <tr>\n      <th>0</th>\n      <td>0.842105</td>\n      <td>0.191700</td>\n      <td>0.572193</td>\n      <td>0.257732</td>\n      <td>0.619565</td>\n      <td>0.627586</td>\n      <td>0.573840</td>\n      <td>0.283019</td>\n      <td>0.593060</td>\n      <td>0.372014</td>\n      <td>0.455285</td>\n      <td>0.970696</td>\n      <td>0.561341</td>\n    </tr>\n    <tr>\n      <th>1</th>\n      <td>0.571053</td>\n      <td>0.205534</td>\n      <td>0.417112</td>\n      <td>0.030928</td>\n      <td>0.326087</td>\n      <td>0.575862</td>\n      <td>0.510549</td>\n      <td>0.245283</td>\n      <td>0.274448</td>\n      <td>0.264505</td>\n      <td>0.463415</td>\n      <td>0.780220</td>\n      <td>0.550642</td>\n    </tr>\n    <tr>\n      <th>2</th>\n      <td>0.560526</td>\n      <td>0.320158</td>\n      <td>0.700535</td>\n      <td>0.412371</td>\n      <td>0.336957</td>\n      <td>0.627586</td>\n      <td>0.611814</td>\n      <td>0.320755</td>\n      <td>0.757098</td>\n      <td>0.375427</td>\n      <td>0.447154</td>\n      <td>0.695971</td>\n      <td>0.646933</td>\n    </tr>\n    <tr>\n      <th>3</th>\n      <td>0.878947</td>\n      <td>0.239130</td>\n      <td>0.609626</td>\n      <td>0.319588</td>\n      <td>0.467391</td>\n      <td>0.989655</td>\n      <td>0.664557</td>\n      <td>0.207547</td>\n      <td>0.558360</td>\n      <td>0.556314</td>\n      <td>0.308943</td>\n      <td>0.798535</td>\n      <td>0.857347</td>\n    </tr>\n    <tr>\n      <th>4</th>\n      <td>0.581579</td>\n      <td>0.365613</td>\n      <td>0.807487</td>\n      <td>0.536082</td>\n      <td>0.521739</td>\n      <td>0.627586</td>\n      <td>0.495781</td>\n      <td>0.490566</td>\n      <td>0.444795</td>\n      <td>0.259386</td>\n      <td>0.455285</td>\n      <td>0.608059</td>\n      <td>0.325963</td>\n    </tr>\n    <tr>\n      <th>...</th>\n      <td>...</td>\n      <td>...</td>\n      <td>...</td>\n      <td>...</td>\n      <td>...</td>\n      <td>...</td>\n      <td>...</td>\n      <td>...</td>\n      <td>...</td>\n      <td>...</td>\n      <td>...</td>\n      <td>...</td>\n      <td>...</td>\n    </tr>\n    <tr>\n      <th>173</th>\n      <td>0.705263</td>\n      <td>0.970356</td>\n      <td>0.582888</td>\n      <td>0.510309</td>\n      <td>0.271739</td>\n      <td>0.241379</td>\n      <td>0.056962</td>\n      <td>0.735849</td>\n      <td>0.205047</td>\n      <td>0.547782</td>\n      <td>0.130081</td>\n      <td>0.172161</td>\n      <td>0.329529</td>\n    </tr>\n    <tr>\n      <th>174</th>\n      <td>0.623684</td>\n      <td>0.626482</td>\n      <td>0.598930</td>\n      <td>0.639175</td>\n      <td>0.347826</td>\n      <td>0.282759</td>\n      <td>0.086498</td>\n      <td>0.566038</td>\n      <td>0.315457</td>\n      <td>0.513652</td>\n      <td>0.178862</td>\n      <td>0.106227</td>\n      <td>0.336662</td>\n    </tr>\n    <tr>\n      <th>175</th>\n      <td>0.589474</td>\n      <td>0.699605</td>\n      <td>0.481283</td>\n      <td>0.484536</td>\n      <td>0.543478</td>\n      <td>0.210345</td>\n      <td>0.073840</td>\n      <td>0.566038</td>\n      <td>0.296530</td>\n      <td>0.761092</td>\n      <td>0.089431</td>\n      <td>0.106227</td>\n      <td>0.397290</td>\n    </tr>\n    <tr>\n      <th>176</th>\n      <td>0.563158</td>\n      <td>0.365613</td>\n      <td>0.540107</td>\n      <td>0.484536</td>\n      <td>0.543478</td>\n      <td>0.231034</td>\n      <td>0.071730</td>\n      <td>0.754717</td>\n      <td>0.331230</td>\n      <td>0.684300</td>\n      <td>0.097561</td>\n      <td>0.128205</td>\n      <td>0.400856</td>\n    </tr>\n    <tr>\n      <th>177</th>\n      <td>0.815789</td>\n      <td>0.664032</td>\n      <td>0.737968</td>\n      <td>0.716495</td>\n      <td>0.282609</td>\n      <td>0.368966</td>\n      <td>0.088608</td>\n      <td>0.811321</td>\n      <td>0.296530</td>\n      <td>0.675768</td>\n      <td>0.105691</td>\n      <td>0.120879</td>\n      <td>0.201141</td>\n    </tr>\n  </tbody>\n</table>\n<p>178 rows × 13 columns</p>\n</div>"
     },
     "execution_count": 81,
     "metadata": {},
     "output_type": "execute_result"
    }
   ]
  },
  {
   "cell_type": "markdown",
   "source": [
    "Питоновская нормализация"
   ],
   "metadata": {
    "collapsed": false
   }
  },
  {
   "cell_type": "code",
   "execution_count": 82,
   "outputs": [
    {
     "data": {
      "text/plain": "array([[0.84210526, 0.1916996 , 0.57219251, ..., 0.45528455, 0.97069597,\n        0.56134094],\n       [0.57105263, 0.2055336 , 0.4171123 , ..., 0.46341463, 0.78021978,\n        0.55064194],\n       [0.56052632, 0.3201581 , 0.70053476, ..., 0.44715447, 0.6959707 ,\n        0.64693295],\n       ...,\n       [0.58947368, 0.69960474, 0.48128342, ..., 0.08943089, 0.10622711,\n        0.39728959],\n       [0.56315789, 0.36561265, 0.54010695, ..., 0.09756098, 0.12820513,\n        0.40085592],\n       [0.81578947, 0.66403162, 0.73796791, ..., 0.10569106, 0.12087912,\n        0.20114123]])"
     },
     "execution_count": 82,
     "metadata": {},
     "output_type": "execute_result"
    }
   ],
   "source": [
    "from sklearn import preprocessing\n",
    "\n",
    "preprocessing.MinMaxScaler().fit_transform(data.drop(columns=[\"class\"]))"
   ],
   "metadata": {
    "collapsed": false,
    "pycharm": {
     "name": "#%%\n"
    }
   }
  },
  {
   "cell_type": "markdown",
   "source": [
    "# One-Hot"
   ],
   "metadata": {
    "collapsed": false
   }
  },
  {
   "cell_type": "code",
   "execution_count": 83,
   "outputs": [
    {
     "data": {
      "text/plain": "[array([1, 0, 0]),\n array([1, 0, 0]),\n array([1, 0, 0]),\n array([1, 0, 0]),\n array([1, 0, 0]),\n array([1, 0, 0]),\n array([1, 0, 0]),\n array([1, 0, 0]),\n array([1, 0, 0]),\n array([1, 0, 0]),\n array([1, 0, 0]),\n array([1, 0, 0]),\n array([1, 0, 0]),\n array([1, 0, 0]),\n array([1, 0, 0]),\n array([1, 0, 0]),\n array([1, 0, 0]),\n array([1, 0, 0]),\n array([1, 0, 0]),\n array([1, 0, 0]),\n array([1, 0, 0]),\n array([1, 0, 0]),\n array([1, 0, 0]),\n array([1, 0, 0]),\n array([1, 0, 0]),\n array([1, 0, 0]),\n array([1, 0, 0]),\n array([1, 0, 0]),\n array([1, 0, 0]),\n array([1, 0, 0]),\n array([1, 0, 0]),\n array([1, 0, 0]),\n array([1, 0, 0]),\n array([1, 0, 0]),\n array([1, 0, 0]),\n array([1, 0, 0]),\n array([1, 0, 0]),\n array([1, 0, 0]),\n array([1, 0, 0]),\n array([1, 0, 0]),\n array([1, 0, 0]),\n array([1, 0, 0]),\n array([1, 0, 0]),\n array([1, 0, 0]),\n array([1, 0, 0]),\n array([1, 0, 0]),\n array([1, 0, 0]),\n array([1, 0, 0]),\n array([1, 0, 0]),\n array([1, 0, 0]),\n array([1, 0, 0]),\n array([1, 0, 0]),\n array([1, 0, 0]),\n array([1, 0, 0]),\n array([1, 0, 0]),\n array([1, 0, 0]),\n array([1, 0, 0]),\n array([1, 0, 0]),\n array([1, 0, 0]),\n array([0, 1, 0]),\n array([0, 1, 0]),\n array([0, 1, 0]),\n array([0, 1, 0]),\n array([0, 1, 0]),\n array([0, 1, 0]),\n array([0, 1, 0]),\n array([0, 1, 0]),\n array([0, 1, 0]),\n array([0, 1, 0]),\n array([0, 1, 0]),\n array([0, 1, 0]),\n array([0, 1, 0]),\n array([0, 1, 0]),\n array([0, 1, 0]),\n array([0, 1, 0]),\n array([0, 1, 0]),\n array([0, 1, 0]),\n array([0, 1, 0]),\n array([0, 1, 0]),\n array([0, 1, 0]),\n array([0, 1, 0]),\n array([0, 1, 0]),\n array([0, 1, 0]),\n array([0, 1, 0]),\n array([0, 1, 0]),\n array([0, 1, 0]),\n array([0, 1, 0]),\n array([0, 1, 0]),\n array([0, 1, 0]),\n array([0, 1, 0]),\n array([0, 1, 0]),\n array([0, 1, 0]),\n array([0, 1, 0]),\n array([0, 1, 0]),\n array([0, 1, 0]),\n array([0, 1, 0]),\n array([0, 1, 0]),\n array([0, 1, 0]),\n array([0, 1, 0]),\n array([0, 1, 0]),\n array([0, 1, 0]),\n array([0, 1, 0]),\n array([0, 1, 0]),\n array([0, 1, 0]),\n array([0, 1, 0]),\n array([0, 1, 0]),\n array([0, 1, 0]),\n array([0, 1, 0]),\n array([0, 1, 0]),\n array([0, 1, 0]),\n array([0, 1, 0]),\n array([0, 1, 0]),\n array([0, 1, 0]),\n array([0, 1, 0]),\n array([0, 1, 0]),\n array([0, 1, 0]),\n array([0, 1, 0]),\n array([0, 1, 0]),\n array([0, 1, 0]),\n array([0, 1, 0]),\n array([0, 1, 0]),\n array([0, 1, 0]),\n array([0, 1, 0]),\n array([0, 1, 0]),\n array([0, 1, 0]),\n array([0, 1, 0]),\n array([0, 1, 0]),\n array([0, 1, 0]),\n array([0, 1, 0]),\n array([0, 1, 0]),\n array([0, 0, 1]),\n array([0, 0, 1]),\n array([0, 0, 1]),\n array([0, 0, 1]),\n array([0, 0, 1]),\n array([0, 0, 1]),\n array([0, 0, 1]),\n array([0, 0, 1]),\n array([0, 0, 1]),\n array([0, 0, 1]),\n array([0, 0, 1]),\n array([0, 0, 1]),\n array([0, 0, 1]),\n array([0, 0, 1]),\n array([0, 0, 1]),\n array([0, 0, 1]),\n array([0, 0, 1]),\n array([0, 0, 1]),\n array([0, 0, 1]),\n array([0, 0, 1]),\n array([0, 0, 1]),\n array([0, 0, 1]),\n array([0, 0, 1]),\n array([0, 0, 1]),\n array([0, 0, 1]),\n array([0, 0, 1]),\n array([0, 0, 1]),\n array([0, 0, 1]),\n array([0, 0, 1]),\n array([0, 0, 1]),\n array([0, 0, 1]),\n array([0, 0, 1]),\n array([0, 0, 1]),\n array([0, 0, 1]),\n array([0, 0, 1]),\n array([0, 0, 1]),\n array([0, 0, 1]),\n array([0, 0, 1]),\n array([0, 0, 1]),\n array([0, 0, 1]),\n array([0, 0, 1]),\n array([0, 0, 1]),\n array([0, 0, 1]),\n array([0, 0, 1]),\n array([0, 0, 1]),\n array([0, 0, 1]),\n array([0, 0, 1]),\n array([0, 0, 1])]"
     },
     "execution_count": 83,
     "metadata": {},
     "output_type": "execute_result"
    }
   ],
   "source": [
    "def one_hot(categories: List[int]) -> List[List[int]]:\n",
    "    maximum = numpy.max(categories)\n",
    "    vectors = []\n",
    "    for category in categories:\n",
    "        vector = numpy.zeros(maximum).astype(int)\n",
    "        vector[category - 1] = 1\n",
    "        vectors.append(vector)\n",
    "    return vectors\n",
    "\n",
    "\n",
    "classes = one_hot(data[\"class\"])\n",
    "classes"
   ],
   "metadata": {
    "collapsed": false,
    "pycharm": {
     "name": "#%%\n"
    }
   }
  },
  {
   "cell_type": "markdown",
   "source": [
    "# Надарая-Ватсон"
   ],
   "metadata": {
    "collapsed": false
   }
  },
  {
   "cell_type": "code",
   "execution_count": 84,
   "outputs": [
    {
     "name": "stdout",
     "output_type": "stream",
     "text": [
      "Test\n"
     ]
    },
    {
     "data": {
      "text/plain": "array([1, 0, 0])"
     },
     "execution_count": 84,
     "metadata": {},
     "output_type": "execute_result"
    }
   ],
   "source": [
    "def Nadaraya_Watson(distance: Callable[[List[float], List[float]], float],\n",
    "                    core: Callable[[float], float],\n",
    "                    window: Callable[[List[float], int], float],\n",
    "                    neighbours: int,\n",
    "                    attrs: List[List[float]],\n",
    "                    one_hots: List[List[int]],\n",
    "                    given: List[float],\n",
    "                    count: int) -> List[int]:\n",
    "    candidates = [(distance(attrs[i], given), one_hots[i]) for i in range(len(attrs))]\n",
    "    candidates = numpy.array(candidates,\n",
    "                             dtype=type(candidates))\n",
    "    candidates = candidates[candidates[:, 0].argsort()]\n",
    "    result = numpy.zeros(count).astype(int)\n",
    "    for i in range(neighbours):\n",
    "        h = window(candidates[:, 0], neighbours)\n",
    "        result = result + candidates[i][1] * core(candidates[i][0] / h)\n",
    "    index = numpy.argmax(result)\n",
    "    answer = numpy.zeros(count).astype(int)\n",
    "    answer[index] = 1\n",
    "    return answer\n",
    "\n",
    "\n",
    "print(\"Test\")\n",
    "Nadaraya_Watson(lambda first, second: numpy.linalg.norm(first - second),\n",
    "                lambda x: 1 / 2,\n",
    "                lambda distance, neighbours: 0.1,\n",
    "                100,\n",
    "                attributes.loc[1:].to_numpy(),\n",
    "                classes[1:],\n",
    "                attributes.loc[0].to_numpy(),\n",
    "                3)"
   ],
   "metadata": {
    "collapsed": false,
    "pycharm": {
     "name": "#%%\n"
    }
   }
  },
  {
   "cell_type": "markdown",
   "source": [
    "# F-мера"
   ],
   "metadata": {
    "collapsed": false
   }
  },
  {
   "cell_type": "code",
   "execution_count": 85,
   "outputs": [],
   "source": [
    "def count_positive_negative(positive: int,\n",
    "                            compare: List[Tuple[List[int], List[int]]]) -> List[int]:\n",
    "    true_positive = 0\n",
    "    true_negative = 0\n",
    "    false_positive = 0\n",
    "    false_negative = 0\n",
    "    for (expected, actual) in compare:\n",
    "        if expected[positive] == 1:\n",
    "            if actual[positive] == 1:\n",
    "                true_positive += 1\n",
    "            else:\n",
    "                false_positive += 1\n",
    "        else:\n",
    "            if actual[positive] == 1:\n",
    "                false_negative += 1\n",
    "            else:\n",
    "                true_negative += 1\n",
    "    return [true_positive, true_negative, false_positive, false_negative]\n",
    "\n",
    "\n",
    "def f_score(number: int,\n",
    "            values: List[Tuple[List[int], List[int]]]):\n",
    "    true_positive = 0\n",
    "    true_negative = 0\n",
    "    false_positive = 0\n",
    "    false_negative = 0\n",
    "    for i in range(number):\n",
    "        result = count_positive_negative(i, values)\n",
    "        true_positive += result[0]\n",
    "        true_negative += result[1]\n",
    "        false_positive += result[2]\n",
    "        false_negative += result[3]\n",
    "    true_positive /= number\n",
    "    true_negative /= number\n",
    "    false_positive /= number\n",
    "    false_negative /= number\n",
    "    precision = true_positive / (true_positive + false_positive)\n",
    "    recall = true_positive / (true_positive + false_negative)\n",
    "    return precision * recall / (precision + recall)"
   ],
   "metadata": {
    "collapsed": false,
    "pycharm": {
     "name": "#%%\n"
    }
   }
  },
  {
   "cell_type": "markdown",
   "source": [
    "# Leave-One-Out"
   ],
   "metadata": {
    "collapsed": false
   }
  },
  {
   "cell_type": "code",
   "execution_count": 86,
   "outputs": [],
   "source": [
    "def leave_one_out(distance: Callable[[List[float], List[float]], float],\n",
    "                  core: Callable[[float], float],\n",
    "                  window: Callable[[List[float], int], float],\n",
    "                  neighbours: int,\n",
    "                  number: int) -> float:\n",
    "    values = []\n",
    "    for i in range(number):\n",
    "        attrs = attributes.to_numpy()\n",
    "        values.append((classes[i], Nadaraya_Watson(distance=distance,\n",
    "                                         core=core,\n",
    "                                         window=window,\n",
    "                                         neighbours=neighbours,\n",
    "                                         attrs=numpy.delete(arr=attrs, obj=i, axis=0),\n",
    "                                         one_hots=numpy.delete(arr=classes, obj=i, axis=0),\n",
    "                                         given=attrs[i],\n",
    "                                         count=3)))\n",
    "    return f_score(3, values)"
   ],
   "metadata": {
    "collapsed": false,
    "pycharm": {
     "name": "#%%\n"
    }
   }
  },
  {
   "cell_type": "markdown",
   "source": [
    "# Оптимальные параметры"
   ],
   "metadata": {
    "collapsed": false
   }
  },
  {
   "cell_type": "code",
   "execution_count": 87,
   "outputs": [
    {
     "name": "stdout",
     "output_type": "stream",
     "text": [
      "The best metric is cityblock\n",
      "The best core type is uniform\n",
      "The best window type is dependent\n",
      "Number of neighbours is 11\n",
      "Coefficient is 0\n",
      "0.49157303370786515\n"
     ]
    }
   ],
   "source": [
    "from math import sqrt\n",
    "from scipy.spatial.distance import euclidean, cityblock, chebyshev\n",
    "\n",
    "distances = {\n",
    "    'euclidean': lambda first, second: euclidean(first, second),\n",
    "    'cityblock': lambda first, second: cityblock(first, second),\n",
    "    'chebyshev': lambda first, second: chebyshev(first, second)}\n",
    "distances_names = ['euclidean', 'cityblock', 'chebyshev']\n",
    "\n",
    "cores = {\n",
    "    'uniform': lambda u: 1 / 2 if u <= 1 else 0,  # uniform\n",
    "    'triangular': lambda u: (1 - abs(u)) if u <= 1 else 0,  # triangular\n",
    "    'epanechnikov': lambda u: 3 / 4 * (1 - u ** 2) if u <= 1 else 0,  # epanechnikov\n",
    "    'quartic': lambda u: 15 / 16 * (1 - u ** 2) ** 2 if u <= 1 else 0}  # quartic\n",
    "cores_names = ['uniform', 'triangular', 'epanechnikov', 'quartic']\n",
    "\n",
    "\n",
    "# windows = {\n",
    "#     'depended': lambda distance, neighbours : distances[neighbours + 1],\n",
    "#     'independent' :\n",
    "# }\n",
    "def fixed_window(distance_function: Callable[[List[float], List[float]], float],\n",
    "                 coefficient: float) -> Callable[[List[float], int], float]:\n",
    "    table = attributes.to_numpy()\n",
    "    maximal = 0\n",
    "    for i in range(table.shape[0]):\n",
    "        for j in range(i + 1, table.shape[0]):\n",
    "            maximal = max(maximal, distance_function(table[i], table[j]))\n",
    "    return lambda distance, neighbours: coefficient * maximal\n",
    "\n",
    "windows_names = ['dependent', 'fixed']\n",
    "\n",
    "distance_answer = 'euclidean'\n",
    "core_answer = 'uniform'\n",
    "window_answer = 'dependent'\n",
    "neighbours_answer = 1\n",
    "coefficient_answer = 0\n",
    "points = len(classes)\n",
    "score = 0\n",
    "\n",
    "for distance_name in distances_names:\n",
    "    for core_name in cores_names:\n",
    "        for window_name in windows_names:\n",
    "            if window_name == 'dependent':\n",
    "                for neighbour_number in range(1, int(sqrt(points) + 1)):\n",
    "                    score_get = leave_one_out(distance=distances[distance_name],\n",
    "                                              core=cores[core_name],\n",
    "                                              window=lambda distance, neighbours: distance[neighbours + 1],\n",
    "                                              neighbours=neighbour_number,\n",
    "                                              number=points)\n",
    "                    if score_get > score:\n",
    "                        distance_answer = distance_name\n",
    "                        core_answer = core_name\n",
    "                        window_answer = 'dependent'\n",
    "                        neighbours_answer = neighbour_number\n",
    "                        score = score_get\n",
    "            else:\n",
    "                for coefficient_value in range(1, int(sqrt(points) + 1)):\n",
    "                    score_get = leave_one_out(distance=distances[distance_name],\n",
    "                                              core=cores[core_name],\n",
    "                                              window=fixed_window(distances[distance_name],\n",
    "                                                                  coefficient_value / sqrt(points)),\n",
    "                                              neighbours=points - 1,\n",
    "                                              number=points)\n",
    "                    if score_get > score:\n",
    "                        distance_answer = distance_name\n",
    "                        core_answer = core_name\n",
    "                        window_answer = 'fixed'\n",
    "                        neighbours_answer = points - 1\n",
    "                        coefficient_answer = coefficient_value / sqrt(points)\n",
    "                        score = score_get\n",
    "print(f'The best metric is {distance_answer}')\n",
    "print(f'The best core type is {core_answer}')\n",
    "print(f'The best window type is {window_answer}')\n",
    "print(f'Number of neighbours is {neighbours_answer}')\n",
    "print(f'Coefficient is {coefficient_answer}')\n",
    "print(score)"
   ],
   "metadata": {
    "collapsed": false,
    "pycharm": {
     "name": "#%%\n"
    }
   }
  },
  {
   "cell_type": "markdown",
   "source": [
    "Лучшие гиперпараметры:\n",
    "1. Метрика - Манхетонское расстояние\n",
    "2. Ядро - равномерное распределение\n",
    "3. Окно - зависимое от количества соседей\n",
    "4. Количество соседей - 11"
   ],
   "metadata": {
    "collapsed": false
   }
  },
  {
   "cell_type": "code",
   "execution_count": 90,
   "outputs": [
    {
     "data": {
      "text/plain": "<Figure size 432x288 with 1 Axes>",
      "image/png": "[encoded data removed]"
     },
     "metadata": {
      "needs_background": "light"
     },
     "output_type": "display_data"
    }
   ],
   "source": [
    "from matplotlib import pyplot as plt\n",
    "\n",
    "plt.plot(numpy.arange(1, int(sqrt(points) + 1)), [leave_one_out(distance=distances[distance_answer],\n",
    "                                                                core=cores[core_answer],\n",
    "                                                                window=lambda distance, neighbours: distance[neighbours + 1],\n",
    "                                                                neighbours=i,\n",
    "                                                                number=points) for i in range(1, int(sqrt(points) + 1))])\n",
    "plt.ylabel('f-score')\n",
    "plt.xlabel('neighbours')\n",
    "plt.title('dependency')\n",
    "plt.show()"
   ],
   "metadata": {
    "collapsed": false,
    "pycharm": {
     "name": "#%%\n"
    }
   }
  }
 ],
 "metadata": {
  "kernelspec": {
   "display_name": "Python 3",
   "language": "python",
   "name": "python3"
  },
  "language_info": {
   "codemirror_mode": {
    "name": "ipython",
    "version": 2
   },
   "file_extension": ".py",
   "mimetype": "text/x-python",
   "name": "python",
   "nbconvert_exporter": "python",
   "pygments_lexer": "ipython2",
   "version": "2.7.6"
  }
 },
 "nbformat": 4,
 "nbformat_minor": 0
}